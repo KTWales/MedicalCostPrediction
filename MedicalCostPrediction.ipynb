{
  "nbformat": 4,
  "nbformat_minor": 0,
  "metadata": {
    "colab": {
      "name": "MedicalCostPrediction.ipynb",
      "provenance": [],
      "collapsed_sections": [],
      "toc_visible": true
    },
    "kernelspec": {
      "name": "python3",
      "display_name": "Python 3"
    },
    "language_info": {
      "name": "python"
    }
  },
  "cells": [
    {
      "cell_type": "markdown",
      "metadata": {
        "id": "HL-4uX89_AcF"
      },
      "source": [
        "# Kaggle Project - Medical Cost Prediction"
      ]
    },
    {
      "cell_type": "markdown",
      "metadata": {
        "id": "HcI0b5yT906i"
      },
      "source": [
        "## Download dataset from Kaggle website\n",
        "\n",
        "Website Link: https://www.kaggle.com/mirichoi0218/insurance"
      ]
    },
    {
      "cell_type": "code",
      "metadata": {
        "colab": {
          "resources": {
            "http://localhost:8080/nbextensions/google.colab/files.js": {
              "data": "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",
              "ok": true,
              "headers": [
                [
                  "content-type",
                  "application/javascript"
                ]
              ],
              "status": 200,
              "status_text": ""
            }
          },
          "base_uri": "https://localhost:8080/",
          "height": 90
        },
        "id": "o1IZQrJu3oLD",
        "outputId": "60d3a0de-0565-49bd-f1ed-24beb4dbfefd"
      },
      "source": [
        "! pip install -q kaggle\n",
        "from google.colab import files\n",
        "files.upload()"
      ],
      "execution_count": 1,
      "outputs": [
        {
          "output_type": "display_data",
          "data": {
            "text/html": [
              "\n",
              "     <input type=\"file\" id=\"files-b36687f2-197f-42cf-ac78-c11aff7ab899\" name=\"files[]\" multiple disabled\n",
              "        style=\"border:none\" />\n",
              "     <output id=\"result-b36687f2-197f-42cf-ac78-c11aff7ab899\">\n",
              "      Upload widget is only available when the cell has been executed in the\n",
              "      current browser session. Please rerun this cell to enable.\n",
              "      </output>\n",
              "      <script src=\"/nbextensions/google.colab/files.js\"></script> "
            ],
            "text/plain": [
              "<IPython.core.display.HTML object>"
            ]
          },
          "metadata": {
            "tags": []
          }
        },
        {
          "output_type": "stream",
          "text": [
            "Saving kaggle.json to kaggle.json\n"
          ],
          "name": "stdout"
        },
        {
          "output_type": "execute_result",
          "data": {
            "text/plain": [
              "{'kaggle.json': b'{\"username\":\"kthaladi\",\"key\":\"a2ac326e90259cf6c824a3557940e60c\"}'}"
            ]
          },
          "metadata": {
            "tags": []
          },
          "execution_count": 1
        }
      ]
    },
    {
      "cell_type": "code",
      "metadata": {
        "id": "RxaZkZ_B4bEt"
      },
      "source": [
        "! mkdir ~/.kaggle\n",
        "! cp kaggle.json ~/.kaggle/\n",
        "! chmod 600 ~/.kaggle/kaggle.json"
      ],
      "execution_count": 2,
      "outputs": []
    },
    {
      "cell_type": "code",
      "metadata": {
        "colab": {
          "base_uri": "https://localhost:8080/"
        },
        "id": "_uXpkI6B46uV",
        "outputId": "155f0238-0f29-48ad-c9a0-15bbe53dd2b0"
      },
      "source": [
        "! kaggle datasets download -d mirichoi0218/insurance\n",
        "\n",
        "! unzip insurance.zip -d health-insurance"
      ],
      "execution_count": 3,
      "outputs": [
        {
          "output_type": "stream",
          "text": [
            "Downloading insurance.zip to /content\n",
            "\r  0% 0.00/16.0k [00:00<?, ?B/s]\n",
            "\r100% 16.0k/16.0k [00:00<00:00, 16.5MB/s]\n",
            "Archive:  insurance.zip\n",
            "  inflating: health-insurance/insurance.csv  \n"
          ],
          "name": "stdout"
        }
      ]
    },
    {
      "cell_type": "markdown",
      "metadata": {
        "id": "66oVa63H-N1o"
      },
      "source": [
        "## Import Libraries"
      ]
    },
    {
      "cell_type": "code",
      "metadata": {
        "id": "NACHBGn95DjT",
        "colab": {
          "base_uri": "https://localhost:8080/"
        },
        "outputId": "5b075e9f-f4af-47ae-8ac5-f4f0d8ebd8bb"
      },
      "source": [
        "# Import Libraries:\n",
        "\n",
        "# For reading data and data manipulations\n",
        "import pandas as pd\n",
        "import numpy as np\n",
        "import pickle\n",
        "\n",
        "# For plotting data visualisations\n",
        "import matplotlib.pyplot as plt\n",
        "import seaborn as sns\n",
        "from matplotlib.cbook import boxplot_stats  \n",
        "\n",
        "# For data modeling\n",
        "import statsmodels.api as sm\n",
        "from sklearn.model_selection import train_test_split,GridSearchCV, cross_val_score, cross_val_predict\n",
        "from statsmodels.stats.outliers_influence import variance_inflation_factor \n",
        "from sklearn.tree import DecisionTreeRegressor\n",
        "from sklearn import ensemble"
      ],
      "execution_count": 4,
      "outputs": [
        {
          "output_type": "stream",
          "text": [
            "/usr/local/lib/python3.7/dist-packages/statsmodels/tools/_testing.py:19: FutureWarning: pandas.util.testing is deprecated. Use the functions in the public API at pandas.testing instead.\n",
            "  import pandas.util.testing as tm\n"
          ],
          "name": "stderr"
        }
      ]
    },
    {
      "cell_type": "markdown",
      "metadata": {
        "id": "b70KAWFg-pGo"
      },
      "source": [
        "## Exploratory Data Analysis (EDA)"
      ]
    },
    {
      "cell_type": "code",
      "metadata": {
        "colab": {
          "base_uri": "https://localhost:8080/",
          "height": 204
        },
        "id": "yg_oIitk5Kx3",
        "outputId": "b97f7a11-ee85-4a22-d3f0-71f1c7be7829"
      },
      "source": [
        "# Read in data file\n",
        "health_ins_df = pd.read_csv(\"health-insurance/insurance.csv\")\n",
        "health_ins_df.head()"
      ],
      "execution_count": 5,
      "outputs": [
        {
          "output_type": "execute_result",
          "data": {
            "text/html": [
              "<div>\n",
              "<style scoped>\n",
              "    .dataframe tbody tr th:only-of-type {\n",
              "        vertical-align: middle;\n",
              "    }\n",
              "\n",
              "    .dataframe tbody tr th {\n",
              "        vertical-align: top;\n",
              "    }\n",
              "\n",
              "    .dataframe thead th {\n",
              "        text-align: right;\n",
              "    }\n",
              "</style>\n",
              "<table border=\"1\" class=\"dataframe\">\n",
              "  <thead>\n",
              "    <tr style=\"text-align: right;\">\n",
              "      <th></th>\n",
              "      <th>age</th>\n",
              "      <th>sex</th>\n",
              "      <th>bmi</th>\n",
              "      <th>children</th>\n",
              "      <th>smoker</th>\n",
              "      <th>region</th>\n",
              "      <th>charges</th>\n",
              "    </tr>\n",
              "  </thead>\n",
              "  <tbody>\n",
              "    <tr>\n",
              "      <th>0</th>\n",
              "      <td>19</td>\n",
              "      <td>female</td>\n",
              "      <td>27.900</td>\n",
              "      <td>0</td>\n",
              "      <td>yes</td>\n",
              "      <td>southwest</td>\n",
              "      <td>16884.92400</td>\n",
              "    </tr>\n",
              "    <tr>\n",
              "      <th>1</th>\n",
              "      <td>18</td>\n",
              "      <td>male</td>\n",
              "      <td>33.770</td>\n",
              "      <td>1</td>\n",
              "      <td>no</td>\n",
              "      <td>southeast</td>\n",
              "      <td>1725.55230</td>\n",
              "    </tr>\n",
              "    <tr>\n",
              "      <th>2</th>\n",
              "      <td>28</td>\n",
              "      <td>male</td>\n",
              "      <td>33.000</td>\n",
              "      <td>3</td>\n",
              "      <td>no</td>\n",
              "      <td>southeast</td>\n",
              "      <td>4449.46200</td>\n",
              "    </tr>\n",
              "    <tr>\n",
              "      <th>3</th>\n",
              "      <td>33</td>\n",
              "      <td>male</td>\n",
              "      <td>22.705</td>\n",
              "      <td>0</td>\n",
              "      <td>no</td>\n",
              "      <td>northwest</td>\n",
              "      <td>21984.47061</td>\n",
              "    </tr>\n",
              "    <tr>\n",
              "      <th>4</th>\n",
              "      <td>32</td>\n",
              "      <td>male</td>\n",
              "      <td>28.880</td>\n",
              "      <td>0</td>\n",
              "      <td>no</td>\n",
              "      <td>northwest</td>\n",
              "      <td>3866.85520</td>\n",
              "    </tr>\n",
              "  </tbody>\n",
              "</table>\n",
              "</div>"
            ],
            "text/plain": [
              "   age     sex     bmi  children smoker     region      charges\n",
              "0   19  female  27.900         0    yes  southwest  16884.92400\n",
              "1   18    male  33.770         1     no  southeast   1725.55230\n",
              "2   28    male  33.000         3     no  southeast   4449.46200\n",
              "3   33    male  22.705         0     no  northwest  21984.47061\n",
              "4   32    male  28.880         0     no  northwest   3866.85520"
            ]
          },
          "metadata": {
            "tags": []
          },
          "execution_count": 5
        }
      ]
    },
    {
      "cell_type": "code",
      "metadata": {
        "colab": {
          "base_uri": "https://localhost:8080/"
        },
        "id": "NN7YgPst5alg",
        "outputId": "aa7b261b-7be2-413e-9654-e4b88e43a440"
      },
      "source": [
        "health_ins_df.info()"
      ],
      "execution_count": 6,
      "outputs": [
        {
          "output_type": "stream",
          "text": [
            "<class 'pandas.core.frame.DataFrame'>\n",
            "RangeIndex: 1338 entries, 0 to 1337\n",
            "Data columns (total 7 columns):\n",
            " #   Column    Non-Null Count  Dtype  \n",
            "---  ------    --------------  -----  \n",
            " 0   age       1338 non-null   int64  \n",
            " 1   sex       1338 non-null   object \n",
            " 2   bmi       1338 non-null   float64\n",
            " 3   children  1338 non-null   int64  \n",
            " 4   smoker    1338 non-null   object \n",
            " 5   region    1338 non-null   object \n",
            " 6   charges   1338 non-null   float64\n",
            "dtypes: float64(2), int64(2), object(3)\n",
            "memory usage: 73.3+ KB\n"
          ],
          "name": "stdout"
        }
      ]
    },
    {
      "cell_type": "code",
      "metadata": {
        "colab": {
          "base_uri": "https://localhost:8080/"
        },
        "id": "1VKDsLLX9gYM",
        "outputId": "f69f5984-dd9a-464e-9d09-b397c6b91e90"
      },
      "source": [
        "print('There are',health_ins_df.shape[0], 'rows and', health_ins_df.shape[1], 'columns in this dataset.')"
      ],
      "execution_count": 7,
      "outputs": [
        {
          "output_type": "stream",
          "text": [
            "There are 1338 rows and 7 columns in this dataset.\n"
          ],
          "name": "stdout"
        }
      ]
    },
    {
      "cell_type": "code",
      "metadata": {
        "colab": {
          "base_uri": "https://localhost:8080/"
        },
        "id": "3HqU5k8E55qF",
        "outputId": "80ac3fbb-f2bb-48de-a55a-cc9151282599"
      },
      "source": [
        "# Are there any columns with missing values?\n",
        "missing_fields = health_ins_df.columns[health_ins_df.isnull().any()]\n",
        "missing_fields"
      ],
      "execution_count": 8,
      "outputs": [
        {
          "output_type": "execute_result",
          "data": {
            "text/plain": [
              "Index([], dtype='object')"
            ]
          },
          "metadata": {
            "tags": []
          },
          "execution_count": 8
        }
      ]
    },
    {
      "cell_type": "markdown",
      "metadata": {
        "id": "jlGXuaeDAPdW"
      },
      "source": [
        "### Descriptive Statistics"
      ]
    },
    {
      "cell_type": "code",
      "metadata": {
        "colab": {
          "base_uri": "https://localhost:8080/",
          "height": 390
        },
        "id": "R8hRvQUPANuA",
        "outputId": "561c582f-0f5a-4ad2-de96-01948a949070"
      },
      "source": [
        "health_ins_df.describe(include='all')\n",
        "# Note: include = 'all' lets you view all variables regardless if they are numerical or categorical.\n",
        "# Hence the 'Nan' for certain descriptve statistics metrics."
      ],
      "execution_count": 9,
      "outputs": [
        {
          "output_type": "execute_result",
          "data": {
            "text/html": [
              "<div>\n",
              "<style scoped>\n",
              "    .dataframe tbody tr th:only-of-type {\n",
              "        vertical-align: middle;\n",
              "    }\n",
              "\n",
              "    .dataframe tbody tr th {\n",
              "        vertical-align: top;\n",
              "    }\n",
              "\n",
              "    .dataframe thead th {\n",
              "        text-align: right;\n",
              "    }\n",
              "</style>\n",
              "<table border=\"1\" class=\"dataframe\">\n",
              "  <thead>\n",
              "    <tr style=\"text-align: right;\">\n",
              "      <th></th>\n",
              "      <th>age</th>\n",
              "      <th>sex</th>\n",
              "      <th>bmi</th>\n",
              "      <th>children</th>\n",
              "      <th>smoker</th>\n",
              "      <th>region</th>\n",
              "      <th>charges</th>\n",
              "    </tr>\n",
              "  </thead>\n",
              "  <tbody>\n",
              "    <tr>\n",
              "      <th>count</th>\n",
              "      <td>1338.000000</td>\n",
              "      <td>1338</td>\n",
              "      <td>1338.000000</td>\n",
              "      <td>1338.000000</td>\n",
              "      <td>1338</td>\n",
              "      <td>1338</td>\n",
              "      <td>1338.000000</td>\n",
              "    </tr>\n",
              "    <tr>\n",
              "      <th>unique</th>\n",
              "      <td>NaN</td>\n",
              "      <td>2</td>\n",
              "      <td>NaN</td>\n",
              "      <td>NaN</td>\n",
              "      <td>2</td>\n",
              "      <td>4</td>\n",
              "      <td>NaN</td>\n",
              "    </tr>\n",
              "    <tr>\n",
              "      <th>top</th>\n",
              "      <td>NaN</td>\n",
              "      <td>male</td>\n",
              "      <td>NaN</td>\n",
              "      <td>NaN</td>\n",
              "      <td>no</td>\n",
              "      <td>southeast</td>\n",
              "      <td>NaN</td>\n",
              "    </tr>\n",
              "    <tr>\n",
              "      <th>freq</th>\n",
              "      <td>NaN</td>\n",
              "      <td>676</td>\n",
              "      <td>NaN</td>\n",
              "      <td>NaN</td>\n",
              "      <td>1064</td>\n",
              "      <td>364</td>\n",
              "      <td>NaN</td>\n",
              "    </tr>\n",
              "    <tr>\n",
              "      <th>mean</th>\n",
              "      <td>39.207025</td>\n",
              "      <td>NaN</td>\n",
              "      <td>30.663397</td>\n",
              "      <td>1.094918</td>\n",
              "      <td>NaN</td>\n",
              "      <td>NaN</td>\n",
              "      <td>13270.422265</td>\n",
              "    </tr>\n",
              "    <tr>\n",
              "      <th>std</th>\n",
              "      <td>14.049960</td>\n",
              "      <td>NaN</td>\n",
              "      <td>6.098187</td>\n",
              "      <td>1.205493</td>\n",
              "      <td>NaN</td>\n",
              "      <td>NaN</td>\n",
              "      <td>12110.011237</td>\n",
              "    </tr>\n",
              "    <tr>\n",
              "      <th>min</th>\n",
              "      <td>18.000000</td>\n",
              "      <td>NaN</td>\n",
              "      <td>15.960000</td>\n",
              "      <td>0.000000</td>\n",
              "      <td>NaN</td>\n",
              "      <td>NaN</td>\n",
              "      <td>1121.873900</td>\n",
              "    </tr>\n",
              "    <tr>\n",
              "      <th>25%</th>\n",
              "      <td>27.000000</td>\n",
              "      <td>NaN</td>\n",
              "      <td>26.296250</td>\n",
              "      <td>0.000000</td>\n",
              "      <td>NaN</td>\n",
              "      <td>NaN</td>\n",
              "      <td>4740.287150</td>\n",
              "    </tr>\n",
              "    <tr>\n",
              "      <th>50%</th>\n",
              "      <td>39.000000</td>\n",
              "      <td>NaN</td>\n",
              "      <td>30.400000</td>\n",
              "      <td>1.000000</td>\n",
              "      <td>NaN</td>\n",
              "      <td>NaN</td>\n",
              "      <td>9382.033000</td>\n",
              "    </tr>\n",
              "    <tr>\n",
              "      <th>75%</th>\n",
              "      <td>51.000000</td>\n",
              "      <td>NaN</td>\n",
              "      <td>34.693750</td>\n",
              "      <td>2.000000</td>\n",
              "      <td>NaN</td>\n",
              "      <td>NaN</td>\n",
              "      <td>16639.912515</td>\n",
              "    </tr>\n",
              "    <tr>\n",
              "      <th>max</th>\n",
              "      <td>64.000000</td>\n",
              "      <td>NaN</td>\n",
              "      <td>53.130000</td>\n",
              "      <td>5.000000</td>\n",
              "      <td>NaN</td>\n",
              "      <td>NaN</td>\n",
              "      <td>63770.428010</td>\n",
              "    </tr>\n",
              "  </tbody>\n",
              "</table>\n",
              "</div>"
            ],
            "text/plain": [
              "                age   sex          bmi  ...  smoker     region       charges\n",
              "count   1338.000000  1338  1338.000000  ...    1338       1338   1338.000000\n",
              "unique          NaN     2          NaN  ...       2          4           NaN\n",
              "top             NaN  male          NaN  ...      no  southeast           NaN\n",
              "freq            NaN   676          NaN  ...    1064        364           NaN\n",
              "mean      39.207025   NaN    30.663397  ...     NaN        NaN  13270.422265\n",
              "std       14.049960   NaN     6.098187  ...     NaN        NaN  12110.011237\n",
              "min       18.000000   NaN    15.960000  ...     NaN        NaN   1121.873900\n",
              "25%       27.000000   NaN    26.296250  ...     NaN        NaN   4740.287150\n",
              "50%       39.000000   NaN    30.400000  ...     NaN        NaN   9382.033000\n",
              "75%       51.000000   NaN    34.693750  ...     NaN        NaN  16639.912515\n",
              "max       64.000000   NaN    53.130000  ...     NaN        NaN  63770.428010\n",
              "\n",
              "[11 rows x 7 columns]"
            ]
          },
          "metadata": {
            "tags": []
          },
          "execution_count": 9
        }
      ]
    },
    {
      "cell_type": "markdown",
      "metadata": {
        "id": "WEM-NSzFB7Ky"
      },
      "source": [
        "### **Key points from the summary:**\n",
        "\n",
        "*   Total volume of patients = 1338\n",
        "*   Age range: 18 to 64\n",
        "*   BMI range: 15.96 to 53.13\n",
        "*   Have children range: 0 to 5\n",
        "*   Charges range: 1,121.87 to 63,770.43"
      ]
    },
    {
      "cell_type": "code",
      "metadata": {
        "colab": {
          "base_uri": "https://localhost:8080/"
        },
        "id": "WOMNkfcNA7CL",
        "outputId": "fd49cb5a-5b86-4bb6-9947-d35369d92020"
      },
      "source": [
        "health_ins_df.value_counts(['sex'], normalize=True)"
      ],
      "execution_count": 10,
      "outputs": [
        {
          "output_type": "execute_result",
          "data": {
            "text/plain": [
              "sex   \n",
              "male      0.505232\n",
              "female    0.494768\n",
              "dtype: float64"
            ]
          },
          "metadata": {
            "tags": []
          },
          "execution_count": 10
        }
      ]
    },
    {
      "cell_type": "markdown",
      "metadata": {
        "id": "INQ2JsuQBU9A"
      },
      "source": [
        "There is an equal number of male and females in this dataset."
      ]
    },
    {
      "cell_type": "code",
      "metadata": {
        "colab": {
          "base_uri": "https://localhost:8080/"
        },
        "id": "T1iPGADWBJnk",
        "outputId": "c3031877-bb69-4963-df9e-8581484bdbc9"
      },
      "source": [
        "health_ins_df.value_counts(['children'], normalize=True)"
      ],
      "execution_count": 11,
      "outputs": [
        {
          "output_type": "execute_result",
          "data": {
            "text/plain": [
              "children\n",
              "0           0.428999\n",
              "1           0.242152\n",
              "2           0.179372\n",
              "3           0.117339\n",
              "4           0.018685\n",
              "5           0.013453\n",
              "dtype: float64"
            ]
          },
          "metadata": {
            "tags": []
          },
          "execution_count": 11
        }
      ]
    },
    {
      "cell_type": "markdown",
      "metadata": {
        "id": "HTL7Qtj6BqV1"
      },
      "source": [
        "Majority of the dataset contains patients with no children."
      ]
    },
    {
      "cell_type": "code",
      "metadata": {
        "colab": {
          "base_uri": "https://localhost:8080/"
        },
        "id": "m7a0cCfeCot9",
        "outputId": "e0e32f86-1d76-4f53-fec2-f174d7294ce9"
      },
      "source": [
        "health_ins_df.value_counts(['region'], normalize=True)"
      ],
      "execution_count": 12,
      "outputs": [
        {
          "output_type": "execute_result",
          "data": {
            "text/plain": [
              "region   \n",
              "southeast    0.272048\n",
              "southwest    0.242900\n",
              "northwest    0.242900\n",
              "northeast    0.242152\n",
              "dtype: float64"
            ]
          },
          "metadata": {
            "tags": []
          },
          "execution_count": 12
        }
      ]
    },
    {
      "cell_type": "markdown",
      "metadata": {
        "id": "LSoUAMfkCqm1"
      },
      "source": [
        "Equally distributed dataset within the respective region."
      ]
    },
    {
      "cell_type": "code",
      "metadata": {
        "colab": {
          "base_uri": "https://localhost:8080/"
        },
        "id": "4_rX5gqBBOR7",
        "outputId": "c08e4935-e906-4434-b9c2-95cd47d8a29e"
      },
      "source": [
        "health_ins_df.value_counts(['smoker'], normalize=True)"
      ],
      "execution_count": 13,
      "outputs": [
        {
          "output_type": "execute_result",
          "data": {
            "text/plain": [
              "smoker\n",
              "no        0.795217\n",
              "yes       0.204783\n",
              "dtype: float64"
            ]
          },
          "metadata": {
            "tags": []
          },
          "execution_count": 13
        }
      ]
    },
    {
      "cell_type": "markdown",
      "metadata": {
        "id": "XCWTtOkwB0Co"
      },
      "source": [
        "Majority of the dataset contains non-smoker patients."
      ]
    },
    {
      "cell_type": "markdown",
      "metadata": {
        "id": "g0vLDe_D-6xN"
      },
      "source": [
        "### Data Visualisations"
      ]
    },
    {
      "cell_type": "markdown",
      "metadata": {
        "id": "Ql6niBFr-woJ"
      },
      "source": [
        "The above code concludes there are no missing data in the dataset."
      ]
    },
    {
      "cell_type": "code",
      "metadata": {
        "colab": {
          "base_uri": "https://localhost:8080/",
          "height": 336
        },
        "id": "_lcZpz5c5e7k",
        "outputId": "91e77024-c3e8-47c6-ef87-d78fa512ad27"
      },
      "source": [
        "#Visualising columns with a histogram\n",
        "fig,axes=plt.subplots(1,4,figsize=(15,5))\n",
        "sns.histplot( health_ins_df['age'] , color=\"lightblue\",ax=axes[0])\n",
        "sns.histplot( health_ins_df['bmi'] , color=\"lightpink\",ax=axes[1])\n",
        "sns.histplot( health_ins_df['children'] , color=\"lightgrey\",ax=axes[2])\n",
        "sns.histplot( health_ins_df['charges'] , color=\"lightyellow\",ax=axes[3])\n",
        "plt.show()"
      ],
      "execution_count": 14,
      "outputs": [
        {
          "output_type": "display_data",
          "data": {
            "image/png": "[encoded data removed]",
            "text/plain": [
              "<Figure size 1080x360 with 4 Axes>"
            ]
          },
          "metadata": {
            "tags": [],
            "needs_background": "light"
          }
        }
      ]
    },
    {
      "cell_type": "markdown",
      "metadata": {
        "id": "ExulYkKr66sg"
      },
      "source": [
        "Three different distributions seen in the above data.\n",
        "\n",
        "* `Age` follows a **uniform** distribution.\n",
        "* `BMI` follows a **normal** distribution.\n",
        "* `Children` - it is not appropriate to conclude it is an **exponential** distribution.\n",
        "* `Charges` follows an **exponential** distribution. *Note: we will ignore `Charges` field for now as we will be predicting the cost based on the independent variables (Age, Gender, BMI, Children, Smoker and Region).*"
      ]
    },
    {
      "cell_type": "code",
      "metadata": {
        "colab": {
          "base_uri": "https://localhost:8080/",
          "height": 334
        },
        "id": "WqwChAxF6KMB",
        "outputId": "355708c7-95b6-4ae9-fa55-b5e99e45aeec"
      },
      "source": [
        "#Visualising numerical columns with a boxplot\n",
        "fig,axes=plt.subplots(1,2,figsize=(10,5))\n",
        "\n",
        "sns.boxplot(x = 'age', data = health_ins_df, ax=axes[0])\n",
        "sns.boxplot(x = 'bmi', data = health_ins_df, ax=axes[1])\n",
        "\n",
        "plt.show()"
      ],
      "execution_count": 15,
      "outputs": [
        {
          "output_type": "display_data",
          "data": {
            "image/png": "[encoded data removed]",
            "text/plain": [
              "<Figure size 720x360 with 2 Axes>"
            ]
          },
          "metadata": {
            "tags": [],
            "needs_background": "light"
          }
        }
      ]
    },
    {
      "cell_type": "markdown",
      "metadata": {
        "id": "XHz23YhKE11P"
      },
      "source": [
        "Looks like the `BMI` variable contains outliers. Let's run the following code to know more details about these outliers."
      ]
    },
    {
      "cell_type": "code",
      "metadata": {
        "colab": {
          "base_uri": "https://localhost:8080/"
        },
        "id": "TIrDnHcE8O0O",
        "outputId": "d117b34f-57d4-45e5-8f86-6ec0168844e7"
      },
      "source": [
        "#Finding the outlier values in the bmi column\n",
        "outlier_list = boxplot_stats(health_ins_df.bmi).pop(0)['fliers'].tolist()\n",
        "print('The outlier values in BMI are: ', outlier_list)\n",
        "\n",
        "#Finding the number of rows containing outliers\n",
        "outlier_bmi_rows = health_ins_df[health_ins_df.bmi.isin(outlier_list)].shape[0]\n",
        "print('Number of rows contaning outliers in BMI : ', outlier_bmi_rows)\n",
        "\n",
        "#Percentage of rows which are outliers\n",
        "percent_bmi_outlier = (outlier_bmi_rows/health_ins_df.shape[0])\n",
        "print('Percentage of outliers in BMI columns : ', percent_bmi_outlier)"
      ],
      "execution_count": 16,
      "outputs": [
        {
          "output_type": "stream",
          "text": [
            "The outlier values in BMI are:  [49.06, 48.07, 47.52, 47.41, 50.38, 47.6, 52.58, 47.74, 53.13]\n",
            "Number of rows contaning outliers in BMI :  9\n",
            "Percentage of outliers in BMI columns :  0.006726457399103139\n"
          ],
          "name": "stdout"
        }
      ]
    },
    {
      "cell_type": "markdown",
      "metadata": {
        "id": "yf4p0f_WGAbE"
      },
      "source": [
        "The outlier % is very small (0.0067 * 100 = 0.67%). Hence these rows can be dropped."
      ]
    },
    {
      "cell_type": "markdown",
      "metadata": {
        "id": "L-k_b8oTIRX4"
      },
      "source": [
        "### Data Cleaning"
      ]
    },
    {
      "cell_type": "code",
      "metadata": {
        "colab": {
          "base_uri": "https://localhost:8080/",
          "height": 296
        },
        "id": "1gBN10aNFvKe",
        "outputId": "f6e34c45-de6d-4ab4-b7e5-8d4ac1242e3b"
      },
      "source": [
        "#Removing outier from bmi column\n",
        "health_ins_df_clean = health_ins_df[~health_ins_df.bmi.isin(outlier_list)]\n",
        "sns.boxplot(x = 'bmi', data = health_ins_df_clean)"
      ],
      "execution_count": 17,
      "outputs": [
        {
          "output_type": "execute_result",
          "data": {
            "text/plain": [
              "<matplotlib.axes._subplots.AxesSubplot at 0x7f8767a9d650>"
            ]
          },
          "metadata": {
            "tags": []
          },
          "execution_count": 17
        },
        {
          "output_type": "display_data",
          "data": {
            "image/png": "[encoded data removed]",
            "text/plain": [
              "<Figure size 432x288 with 1 Axes>"
            ]
          },
          "metadata": {
            "tags": [],
            "needs_background": "light"
          }
        }
      ]
    },
    {
      "cell_type": "markdown",
      "metadata": {
        "id": "0zFJir6_H6iQ"
      },
      "source": [
        "From the above descriptive summary, we know that the patients' age ranges from 18 to 64. Let's create age categories/groups to the clean dataset."
      ]
    },
    {
      "cell_type": "code",
      "metadata": {
        "colab": {
          "base_uri": "https://localhost:8080/"
        },
        "id": "FEhK9oLkHrBR",
        "outputId": "68c41e7a-ee2c-459f-c9a5-ddbb98ab40a0"
      },
      "source": [
        "#Creating Age categories\n",
        "\n",
        "#Age between 18 to 40 years will fall under young\n",
        "#Age between 41 to 58 years will fall under mid-age\n",
        "#Age above 58 years will fall under old age\n",
        "\n",
        "health_ins_df_clean.loc[(health_ins_df_clean['age'] >=18) & (health_ins_df_clean['age'] <= 40), 'age_group'] = 'young'\n",
        "health_ins_df_clean.loc[(health_ins_df_clean['age'] >= 41) & (health_ins_df_clean['age'] <= 58), 'age_group'] = 'mid-age'\n",
        "health_ins_df_clean.loc[health_ins_df_clean['age'] > 58, 'age_group'] = 'old'"
      ],
      "execution_count": 18,
      "outputs": [
        {
          "output_type": "stream",
          "text": [
            "/usr/local/lib/python3.7/dist-packages/pandas/core/indexing.py:1596: SettingWithCopyWarning: \n",
            "A value is trying to be set on a copy of a slice from a DataFrame.\n",
            "Try using .loc[row_indexer,col_indexer] = value instead\n",
            "\n",
            "See the caveats in the documentation: https://pandas.pydata.org/pandas-docs/stable/user_guide/indexing.html#returning-a-view-versus-a-copy\n",
            "  self.obj[key] = _infer_fill_value(value)\n",
            "/usr/local/lib/python3.7/dist-packages/pandas/core/indexing.py:1763: SettingWithCopyWarning: \n",
            "A value is trying to be set on a copy of a slice from a DataFrame.\n",
            "Try using .loc[row_indexer,col_indexer] = value instead\n",
            "\n",
            "See the caveats in the documentation: https://pandas.pydata.org/pandas-docs/stable/user_guide/indexing.html#returning-a-view-versus-a-copy\n",
            "  isetter(loc, value)\n",
            "/usr/local/lib/python3.7/dist-packages/pandas/core/indexing.py:1763: SettingWithCopyWarning: \n",
            "A value is trying to be set on a copy of a slice from a DataFrame.\n",
            "Try using .loc[row_indexer,col_indexer] = value instead\n",
            "\n",
            "See the caveats in the documentation: https://pandas.pydata.org/pandas-docs/stable/user_guide/indexing.html#returning-a-view-versus-a-copy\n",
            "  isetter(loc, value)\n",
            "/usr/local/lib/python3.7/dist-packages/pandas/core/indexing.py:1763: SettingWithCopyWarning: \n",
            "A value is trying to be set on a copy of a slice from a DataFrame.\n",
            "Try using .loc[row_indexer,col_indexer] = value instead\n",
            "\n",
            "See the caveats in the documentation: https://pandas.pydata.org/pandas-docs/stable/user_guide/indexing.html#returning-a-view-versus-a-copy\n",
            "  isetter(loc, value)\n"
          ],
          "name": "stderr"
        }
      ]
    },
    {
      "cell_type": "code",
      "metadata": {
        "colab": {
          "base_uri": "https://localhost:8080/"
        },
        "id": "mJAoo98cI4jT",
        "outputId": "69c76d44-8a05-4738-d87e-1b6f17c12eeb"
      },
      "source": [
        "health_ins_df_clean.info()"
      ],
      "execution_count": 19,
      "outputs": [
        {
          "output_type": "stream",
          "text": [
            "<class 'pandas.core.frame.DataFrame'>\n",
            "Int64Index: 1329 entries, 0 to 1337\n",
            "Data columns (total 8 columns):\n",
            " #   Column     Non-Null Count  Dtype  \n",
            "---  ------     --------------  -----  \n",
            " 0   age        1329 non-null   int64  \n",
            " 1   sex        1329 non-null   object \n",
            " 2   bmi        1329 non-null   float64\n",
            " 3   children   1329 non-null   int64  \n",
            " 4   smoker     1329 non-null   object \n",
            " 5   region     1329 non-null   object \n",
            " 6   charges    1329 non-null   float64\n",
            " 7   age_group  1329 non-null   object \n",
            "dtypes: float64(2), int64(2), object(4)\n",
            "memory usage: 93.4+ KB\n"
          ],
          "name": "stdout"
        }
      ]
    },
    {
      "cell_type": "code",
      "metadata": {
        "colab": {
          "base_uri": "https://localhost:8080/"
        },
        "id": "xDvFkkJKIwzX",
        "outputId": "fef8a08b-3bb4-417b-9ca3-2894d7a6e5b1"
      },
      "source": [
        "health_ins_df_clean.value_counts('age_group',normalize=True)"
      ],
      "execution_count": 20,
      "outputs": [
        {
          "output_type": "execute_result",
          "data": {
            "text/plain": [
              "age_group\n",
              "young      0.524454\n",
              "mid-age    0.370956\n",
              "old        0.104590\n",
              "dtype: float64"
            ]
          },
          "metadata": {
            "tags": []
          },
          "execution_count": 20
        }
      ]
    },
    {
      "cell_type": "markdown",
      "metadata": {
        "id": "Lzz748ufJwK9"
      },
      "source": [
        "### More Data Visualisations"
      ]
    },
    {
      "cell_type": "code",
      "metadata": {
        "colab": {
          "base_uri": "https://localhost:8080/",
          "height": 453
        },
        "id": "ZIg1dCT9I-3E",
        "outputId": "d21b0c08-28ce-4312-8192-37209a20827b"
      },
      "source": [
        "fig,axes=plt.subplots(1,5,figsize=(20,8))\n",
        "sns.countplot(x = 'sex', data = health_ins_df_clean, palette = 'magma',ax=axes[0])\n",
        "sns.countplot(x = 'children', data = health_ins_df_clean, palette = 'magma',ax=axes[1])\n",
        "sns.countplot(x = 'smoker', data = health_ins_df_clean, palette = 'magma',ax=axes[2])\n",
        "sns.countplot(x = 'region', data = health_ins_df_clean, palette = 'magma',ax=axes[3])\n",
        "sns.countplot(x = 'age_group', data = health_ins_df_clean, palette = 'magma',ax=axes[4])"
      ],
      "execution_count": 21,
      "outputs": [
        {
          "output_type": "execute_result",
          "data": {
            "text/plain": [
              "<matplotlib.axes._subplots.AxesSubplot at 0x7f876788c6d0>"
            ]
          },
          "metadata": {
            "tags": []
          },
          "execution_count": 21
        },
        {
          "output_type": "display_data",
          "data": {
            "image/png": "[encoded data removed]",
            "text/plain": [
              "<Figure size 1440x576 with 5 Axes>"
            ]
          },
          "metadata": {
            "tags": [],
            "needs_background": "light"
          }
        }
      ]
    },
    {
      "cell_type": "markdown",
      "metadata": {
        "id": "wcXDDE5LJ8PR"
      },
      "source": [
        "#### **Key points from the data visualisations:**\n",
        "\n",
        "*  `Sex` and `Region` are equally distributed.\n",
        "*  `Children`, `Smoker` and `Age Group` are not equally distributed.\n"
      ]
    },
    {
      "cell_type": "markdown",
      "metadata": {
        "id": "vc8bO0UFKSOt"
      },
      "source": [
        "### Univariate Analysis\n",
        "\n",
        "#### Correlation - Heat Maps"
      ]
    },
    {
      "cell_type": "code",
      "metadata": {
        "colab": {
          "base_uri": "https://localhost:8080/",
          "height": 269
        },
        "id": "oxsy4vVfJ1AE",
        "outputId": "f553667d-3215-40e1-de0e-1c3dede4f84f"
      },
      "source": [
        "heatmap = sns.heatmap(health_ins_df_clean.corr(), vmin=-1, vmax=1, annot=True)"
      ],
      "execution_count": 22,
      "outputs": [
        {
          "output_type": "display_data",
          "data": {
            "image/png": "[encoded data removed]",
            "text/plain": [
              "<Figure size 432x288 with 2 Axes>"
            ]
          },
          "metadata": {
            "tags": [],
            "needs_background": "light"
          }
        }
      ]
    },
    {
      "cell_type": "markdown",
      "metadata": {
        "id": "Djp7oBr9Knrg"
      },
      "source": [
        "As per the correlation heat map, the `age` and `BMI` is most likely to cause an increase in the health care `charges` of a patient."
      ]
    },
    {
      "cell_type": "markdown",
      "metadata": {
        "id": "rNiYamEJLxHm"
      },
      "source": [
        "### Multivariate Analysis"
      ]
    },
    {
      "cell_type": "code",
      "metadata": {
        "colab": {
          "base_uri": "https://localhost:8080/",
          "height": 383
        },
        "id": "jk29V-zIL08h",
        "outputId": "def7d5ae-2cc8-4e1e-a87d-c1359bc07fa8"
      },
      "source": [
        "sns.relplot(x=\"smoker\", y=\"charges\",hue=\"sex\", style = \"sex\", data=health_ins_df_clean);"
      ],
      "execution_count": 23,
      "outputs": [
        {
          "output_type": "display_data",
          "data": {
            "image/png": "[encoded data removed]",
            "text/plain": [
              "<Figure size 430.5x360 with 1 Axes>"
            ]
          },
          "metadata": {
            "tags": [],
            "needs_background": "light"
          }
        }
      ]
    },
    {
      "cell_type": "markdown",
      "metadata": {
        "id": "dBoyYECAMBeP"
      },
      "source": [
        "This plot shows how the health insurance cost varies for smokers and non-smokers.\n",
        "* Those who smoke have high charges for health insurance.\n",
        "* Those who do not smoke have lower charges for health insurance."
      ]
    },
    {
      "cell_type": "code",
      "metadata": {
        "colab": {
          "base_uri": "https://localhost:8080/",
          "height": 383
        },
        "id": "2-5ldPZzKdPJ",
        "outputId": "6ed0e036-dbea-4f6f-e095-4212b16b4af4"
      },
      "source": [
        "sns.relplot(x=\"bmi\", y=\"charges\",hue=\"sex\", style = \"sex\", data=health_ins_df_clean);"
      ],
      "execution_count": 24,
      "outputs": [
        {
          "output_type": "display_data",
          "data": {
            "image/png": "[encoded data removed]",
            "text/plain": [
              "<Figure size 430.5x360 with 1 Axes>"
            ]
          },
          "metadata": {
            "tags": [],
            "needs_background": "light"
          }
        }
      ]
    },
    {
      "cell_type": "markdown",
      "metadata": {
        "id": "hITshFujMUjc"
      },
      "source": [
        "The above plot shows how the health insurance charges can vary based on `BMI` and `Sex`.\n",
        "* There are 2 clusters seen in the above plot:\n",
        "Those who have a high `BMI` and charged more for health insurance.\n",
        "* There is a much larger cluster of patients whose `BMI` ranges widely from low to high but their health insurance cost is relatively less. *Note: This could be one type of health insurance that customers can keep in mind when shopping for health insurance.*"
      ]
    },
    {
      "cell_type": "code",
      "metadata": {
        "colab": {
          "base_uri": "https://localhost:8080/",
          "height": 383
        },
        "id": "EylK-eJnL-PQ",
        "outputId": "2d7e7166-8c96-4fec-9257-ea6492828c24"
      },
      "source": [
        "sns.relplot(x=\"bmi\", y=\"charges\",hue=\"smoker\", style = \"smoker\", data=health_ins_df_clean);"
      ],
      "execution_count": 25,
      "outputs": [
        {
          "output_type": "display_data",
          "data": {
            "image/png": "[encoded data removed]",
            "text/plain": [
              "<Figure size 413.25x360 with 1 Axes>"
            ]
          },
          "metadata": {
            "tags": [],
            "needs_background": "light"
          }
        }
      ]
    },
    {
      "cell_type": "markdown",
      "metadata": {
        "id": "gwnDkrsINKLL"
      },
      "source": [
        "The relationship is even more visible here!\n",
        "* Those who **smoke**, their charges have linearly increased and so did their `BMI`!\n",
        "* Those who **don't smoke**, their `BMI` varied from low to high but their health insurance charges stayed relatively low!"
      ]
    },
    {
      "cell_type": "code",
      "metadata": {
        "colab": {
          "base_uri": "https://localhost:8080/",
          "height": 383
        },
        "id": "t_U4BhgDNF9h",
        "outputId": "9bfddd30-1505-4059-fda2-09be46599a27"
      },
      "source": [
        "sns.relplot(x=\"bmi\", y=\"charges\",hue=\"region\", style = \"region\", data=health_ins_df_clean);"
      ],
      "execution_count": 26,
      "outputs": [
        {
          "output_type": "display_data",
          "data": {
            "image/png": "[encoded data removed]",
            "text/plain": [
              "<Figure size 447.25x360 with 1 Axes>"
            ]
          },
          "metadata": {
            "tags": [],
            "needs_background": "light"
          }
        }
      ]
    },
    {
      "cell_type": "markdown",
      "metadata": {
        "id": "EpW4iuWmNoug"
      },
      "source": [
        "There isn't a clear visual of the trend beased on the region."
      ]
    },
    {
      "cell_type": "code",
      "metadata": {
        "colab": {
          "base_uri": "https://localhost:8080/",
          "height": 383
        },
        "id": "XTDI4ySSNmil",
        "outputId": "e6b910ce-9f43-40a9-fe5d-1fa4c941ed4a"
      },
      "source": [
        "sns.relplot(x=\"bmi\", y=\"charges\",hue=\"age_group\", style = \"age_group\", data=health_ins_df_clean);"
      ],
      "execution_count": 27,
      "outputs": [
        {
          "output_type": "display_data",
          "data": {
            "image/png": "[encoded data removed]",
            "text/plain": [
              "<Figure size 437.125x360 with 1 Axes>"
            ]
          },
          "metadata": {
            "tags": [],
            "needs_background": "light"
          }
        }
      ]
    },
    {
      "cell_type": "markdown",
      "metadata": {
        "id": "vW942USbN10D"
      },
      "source": [
        "There is a slight pattern seen here. Again, there are 2 types of clusters viewed in this dataset.\n",
        "* The health insurance cost for **young** age patients is slightly less.\n",
        "* The health insurance cost for **mid-age** patients has a relatively increase from the young age patients.\n",
        "* The health insurance cost for **old** age patients is higher than young age and mid-age patients."
      ]
    },
    {
      "cell_type": "markdown",
      "metadata": {
        "id": "N9GCrxz_PMQR"
      },
      "source": [
        "## Data Modeling"
      ]
    },
    {
      "cell_type": "markdown",
      "metadata": {
        "id": "m6AXfXyQOyD2"
      },
      "source": [
        "Now that we have a brief understanding of the data from the descriptive statistics and data visualisations, we can now create a data model and check our hypothesis of predicting medical cost/health insurance for patients based on their age, BMI, gender, no. of children, region, and smoker."
      ]
    },
    {
      "cell_type": "markdown",
      "metadata": {
        "id": "PGH91b1sQWRT"
      },
      "source": [
        "### Pre-processing\n",
        "\n",
        "Prior to running a data model, we have to convert the data such that the model can predict well.\n",
        "\n",
        "We will convert the categorical, nominal and ordinal variables using the **get_dummies** function in **pandas** library. Another alternative is to use the **One-Hot Encoding** in **scikit-learn** library."
      ]
    },
    {
      "cell_type": "code",
      "metadata": {
        "colab": {
          "base_uri": "https://localhost:8080/"
        },
        "id": "wqxgSyj8RhHu",
        "outputId": "c377368c-7b97-439d-c8b9-b0fadb54b834"
      },
      "source": [
        " health_ins_df_clean.columns\n",
        "\n"
      ],
      "execution_count": 28,
      "outputs": [
        {
          "output_type": "execute_result",
          "data": {
            "text/plain": [
              "Index(['age', 'sex', 'bmi', 'children', 'smoker', 'region', 'charges',\n",
              "       'age_group'],\n",
              "      dtype='object')"
            ]
          },
          "metadata": {
            "tags": []
          },
          "execution_count": 28
        }
      ]
    },
    {
      "cell_type": "code",
      "metadata": {
        "colab": {
          "base_uri": "https://localhost:8080/"
        },
        "id": "5pIkSAGwNwW5",
        "outputId": "4f6b0748-b028-49d4-bafb-ed4d7affe8ad"
      },
      "source": [
        "#Number of unique categories in catagorical variables\n",
        "categorical_var = ['sex','children','smoker','region','age_group']\n",
        "for cat_value in categorical_var:\n",
        "  print(cat_value,\" - \",health_ins_df_clean[cat_value].unique())"
      ],
      "execution_count": 29,
      "outputs": [
        {
          "output_type": "stream",
          "text": [
            "sex  -  ['female' 'male']\n",
            "children  -  [0 1 3 2 5 4]\n",
            "smoker  -  ['yes' 'no']\n",
            "region  -  ['southwest' 'southeast' 'northwest' 'northeast']\n",
            "age_group  -  ['young' 'mid-age' 'old']\n"
          ],
          "name": "stdout"
        }
      ]
    },
    {
      "cell_type": "code",
      "metadata": {
        "colab": {
          "base_uri": "https://localhost:8080/",
          "height": 241
        },
        "id": "2f5TKr0CR5Le",
        "outputId": "3a8df7b6-e4c4-43cb-814a-adb7bf296ccb"
      },
      "source": [
        "#Converting categorical values into dummies using one-hot encoding technique\n",
        "health_ins_df_processed = pd.get_dummies(health_ins_df_clean, \n",
        "                                         columns=['sex','children','smoker','region','age_group'], \n",
        "                                         prefix=['sex','children','smoker','region','age_group'])\n",
        "health_ins_df_processed.drop(['age'],axis = 1,inplace=True)\n",
        "\n",
        "health_ins_df_processed.head()"
      ],
      "execution_count": 30,
      "outputs": [
        {
          "output_type": "execute_result",
          "data": {
            "text/html": [
              "<div>\n",
              "<style scoped>\n",
              "    .dataframe tbody tr th:only-of-type {\n",
              "        vertical-align: middle;\n",
              "    }\n",
              "\n",
              "    .dataframe tbody tr th {\n",
              "        vertical-align: top;\n",
              "    }\n",
              "\n",
              "    .dataframe thead th {\n",
              "        text-align: right;\n",
              "    }\n",
              "</style>\n",
              "<table border=\"1\" class=\"dataframe\">\n",
              "  <thead>\n",
              "    <tr style=\"text-align: right;\">\n",
              "      <th></th>\n",
              "      <th>bmi</th>\n",
              "      <th>charges</th>\n",
              "      <th>sex_female</th>\n",
              "      <th>sex_male</th>\n",
              "      <th>children_0</th>\n",
              "      <th>children_1</th>\n",
              "      <th>children_2</th>\n",
              "      <th>children_3</th>\n",
              "      <th>children_4</th>\n",
              "      <th>children_5</th>\n",
              "      <th>smoker_no</th>\n",
              "      <th>smoker_yes</th>\n",
              "      <th>region_northeast</th>\n",
              "      <th>region_northwest</th>\n",
              "      <th>region_southeast</th>\n",
              "      <th>region_southwest</th>\n",
              "      <th>age_group_mid-age</th>\n",
              "      <th>age_group_old</th>\n",
              "      <th>age_group_young</th>\n",
              "    </tr>\n",
              "  </thead>\n",
              "  <tbody>\n",
              "    <tr>\n",
              "      <th>0</th>\n",
              "      <td>27.900</td>\n",
              "      <td>16884.92400</td>\n",
              "      <td>1</td>\n",
              "      <td>0</td>\n",
              "      <td>1</td>\n",
              "      <td>0</td>\n",
              "      <td>0</td>\n",
              "      <td>0</td>\n",
              "      <td>0</td>\n",
              "      <td>0</td>\n",
              "      <td>0</td>\n",
              "      <td>1</td>\n",
              "      <td>0</td>\n",
              "      <td>0</td>\n",
              "      <td>0</td>\n",
              "      <td>1</td>\n",
              "      <td>0</td>\n",
              "      <td>0</td>\n",
              "      <td>1</td>\n",
              "    </tr>\n",
              "    <tr>\n",
              "      <th>1</th>\n",
              "      <td>33.770</td>\n",
              "      <td>1725.55230</td>\n",
              "      <td>0</td>\n",
              "      <td>1</td>\n",
              "      <td>0</td>\n",
              "      <td>1</td>\n",
              "      <td>0</td>\n",
              "      <td>0</td>\n",
              "      <td>0</td>\n",
              "      <td>0</td>\n",
              "      <td>1</td>\n",
              "      <td>0</td>\n",
              "      <td>0</td>\n",
              "      <td>0</td>\n",
              "      <td>1</td>\n",
              "      <td>0</td>\n",
              "      <td>0</td>\n",
              "      <td>0</td>\n",
              "      <td>1</td>\n",
              "    </tr>\n",
              "    <tr>\n",
              "      <th>2</th>\n",
              "      <td>33.000</td>\n",
              "      <td>4449.46200</td>\n",
              "      <td>0</td>\n",
              "      <td>1</td>\n",
              "      <td>0</td>\n",
              "      <td>0</td>\n",
              "      <td>0</td>\n",
              "      <td>1</td>\n",
              "      <td>0</td>\n",
              "      <td>0</td>\n",
              "      <td>1</td>\n",
              "      <td>0</td>\n",
              "      <td>0</td>\n",
              "      <td>0</td>\n",
              "      <td>1</td>\n",
              "      <td>0</td>\n",
              "      <td>0</td>\n",
              "      <td>0</td>\n",
              "      <td>1</td>\n",
              "    </tr>\n",
              "    <tr>\n",
              "      <th>3</th>\n",
              "      <td>22.705</td>\n",
              "      <td>21984.47061</td>\n",
              "      <td>0</td>\n",
              "      <td>1</td>\n",
              "      <td>1</td>\n",
              "      <td>0</td>\n",
              "      <td>0</td>\n",
              "      <td>0</td>\n",
              "      <td>0</td>\n",
              "      <td>0</td>\n",
              "      <td>1</td>\n",
              "      <td>0</td>\n",
              "      <td>0</td>\n",
              "      <td>1</td>\n",
              "      <td>0</td>\n",
              "      <td>0</td>\n",
              "      <td>0</td>\n",
              "      <td>0</td>\n",
              "      <td>1</td>\n",
              "    </tr>\n",
              "    <tr>\n",
              "      <th>4</th>\n",
              "      <td>28.880</td>\n",
              "      <td>3866.85520</td>\n",
              "      <td>0</td>\n",
              "      <td>1</td>\n",
              "      <td>1</td>\n",
              "      <td>0</td>\n",
              "      <td>0</td>\n",
              "      <td>0</td>\n",
              "      <td>0</td>\n",
              "      <td>0</td>\n",
              "      <td>1</td>\n",
              "      <td>0</td>\n",
              "      <td>0</td>\n",
              "      <td>1</td>\n",
              "      <td>0</td>\n",
              "      <td>0</td>\n",
              "      <td>0</td>\n",
              "      <td>0</td>\n",
              "      <td>1</td>\n",
              "    </tr>\n",
              "  </tbody>\n",
              "</table>\n",
              "</div>"
            ],
            "text/plain": [
              "      bmi      charges  ...  age_group_old  age_group_young\n",
              "0  27.900  16884.92400  ...              0                1\n",
              "1  33.770   1725.55230  ...              0                1\n",
              "2  33.000   4449.46200  ...              0                1\n",
              "3  22.705  21984.47061  ...              0                1\n",
              "4  28.880   3866.85520  ...              0                1\n",
              "\n",
              "[5 rows x 19 columns]"
            ]
          },
          "metadata": {
            "tags": []
          },
          "execution_count": 30
        }
      ]
    },
    {
      "cell_type": "code",
      "metadata": {
        "colab": {
          "base_uri": "https://localhost:8080/"
        },
        "id": "w9GRkyvpSnvO",
        "outputId": "8a5d8d4f-f63c-4de0-e88d-a91e57d67d51"
      },
      "source": [
        "health_ins_df_processed.shape"
      ],
      "execution_count": 31,
      "outputs": [
        {
          "output_type": "execute_result",
          "data": {
            "text/plain": [
              "(1329, 19)"
            ]
          },
          "metadata": {
            "tags": []
          },
          "execution_count": 31
        }
      ]
    },
    {
      "cell_type": "markdown",
      "metadata": {
        "id": "MBHbP7wGSgXM"
      },
      "source": [
        "### **Model:** Base"
      ]
    },
    {
      "cell_type": "code",
      "metadata": {
        "colab": {
          "base_uri": "https://localhost:8080/"
        },
        "id": "hcDvxvseSQGD",
        "outputId": "6493c5d5-59f9-49f4-848d-3f9beb9fcf8e"
      },
      "source": [
        "#Building linear regression model\n",
        "X = health_ins_df_processed.loc[:, health_ins_df_processed.columns != 'charges']\n",
        "y = health_ins_df_processed['charges']\n",
        "\n",
        "# Split the data into training and test sets - 70% train and 30% test splits\n",
        "X_train, X_test, y_train, y_test = train_test_split(X, y, test_size=0.30)\n",
        "\n",
        "X = sm.add_constant(X) # adding a constant\n",
        "\n",
        "# Fit the Model\n",
        "model = sm.OLS(y, X).fit()\n",
        "\n",
        "# Predictions\n",
        "predictions = model.predict(X) \n",
        "\n",
        "# Check Model Summary\n",
        "print_model = model.summary()\n",
        "print(print_model)"
      ],
      "execution_count": 32,
      "outputs": [
        {
          "output_type": "stream",
          "text": [
            "                            OLS Regression Results                            \n",
            "==============================================================================\n",
            "Dep. Variable:                charges   R-squared:                       0.745\n",
            "Model:                            OLS   Adj. R-squared:                  0.742\n",
            "Method:                 Least Squares   F-statistic:                     295.0\n",
            "Date:                Mon, 17 May 2021   Prob (F-statistic):               0.00\n",
            "Time:                        15:28:01   Log-Likelihood:                -13461.\n",
            "No. Observations:                1329   AIC:                         2.695e+04\n",
            "Df Residuals:                    1315   BIC:                         2.702e+04\n",
            "Df Model:                          13                                         \n",
            "Covariance Type:            nonrobust                                         \n",
            "=====================================================================================\n",
            "                        coef    std err          t      P>|t|      [0.025      0.975]\n",
            "-------------------------------------------------------------------------------------\n",
            "const              4565.8126    360.937     12.650      0.000    3857.737    5273.888\n",
            "bmi                 346.6547     29.616     11.705      0.000     288.556     404.754\n",
            "sex_female         2314.7020    243.788      9.495      0.000    1836.447    2792.957\n",
            "sex_male           2251.1106    249.157      9.035      0.000    1762.321    2739.900\n",
            "children_0        -1052.3344    387.853     -2.713      0.007   -1813.212    -291.457\n",
            "children_1            2.8279    428.600      0.007      0.995    -837.986     843.642\n",
            "children_2         1248.3122    462.318      2.700      0.007     341.350    2155.274\n",
            "children_3          695.3924    519.046      1.340      0.181    -322.856    1713.641\n",
            "children_4         2904.7612   1063.538      2.731      0.006     818.345    4991.177\n",
            "children_5          766.8533   1237.666      0.620      0.536   -1661.162    3194.869\n",
            "smoker_no         -9452.9946    260.197    -36.330      0.000   -9963.441   -8942.548\n",
            "smoker_yes         1.402e+04    291.737     48.053      0.000    1.34e+04    1.46e+04\n",
            "region_northeast   1801.0854    298.472      6.034      0.000    1215.552    2386.619\n",
            "region_northwest   1372.5943    299.796      4.578      0.000     784.464    1960.724\n",
            "region_southeast    637.9756    326.317      1.955      0.051      -2.183    1278.135\n",
            "region_southwest    754.1572    306.110      2.464      0.014     153.639    1354.675\n",
            "age_group_mid-age  1652.3401    284.834      5.801      0.000    1093.562    2211.118\n",
            "age_group_old      6535.6217    412.496     15.844      0.000    5726.400    7344.843\n",
            "age_group_young   -3622.1492    252.393    -14.351      0.000   -4117.285   -3127.013\n",
            "==============================================================================\n",
            "Omnibus:                      266.498   Durbin-Watson:                   2.084\n",
            "Prob(Omnibus):                  0.000   Jarque-Bera (JB):              581.715\n",
            "Skew:                           1.124   Prob(JB):                    4.81e-127\n",
            "Kurtosis:                       5.334   Cond. No.                     7.47e+17\n",
            "==============================================================================\n",
            "\n",
            "Warnings:\n",
            "[1] Standard Errors assume that the covariance matrix of the errors is correctly specified.\n",
            "[2] The smallest eigenvalue is 2.31e-30. This might indicate that there are\n",
            "strong multicollinearity problems or that the design matrix is singular.\n"
          ],
          "name": "stdout"
        }
      ]
    },
    {
      "cell_type": "markdown",
      "metadata": {
        "id": "m2McrvmiVUX1"
      },
      "source": [
        "### Key points from the base model:\n",
        "* Adjusted R-square is 74.2% means our model is able to explain 74.2% variation in the data\n",
        "* Variables - children_1, children_3, children_5, region_southeast, region_southwest have a p-value > alpha which means that these variables are insignificant in predicting our target variable - `Charges`.\n",
        "* We can drop these insignificant variables in next iteration."
      ]
    },
    {
      "cell_type": "markdown",
      "metadata": {
        "id": "RZURjVpsWH2y"
      },
      "source": [
        "### Variance Inflation Factor (VIF)\n",
        "\n",
        "VIF let's you check the insignificant variables which will help us to eliminate those variables from the OLS (Ordinary Least Squares) model."
      ]
    },
    {
      "cell_type": "code",
      "metadata": {
        "colab": {
          "base_uri": "https://localhost:8080/"
        },
        "id": "36jCYKKsWkq8",
        "outputId": "9d14d9a7-d006-4836-b038-13ef3c2290a6"
      },
      "source": [
        "health_ins_df_processed.columns"
      ],
      "execution_count": 33,
      "outputs": [
        {
          "output_type": "execute_result",
          "data": {
            "text/plain": [
              "Index(['bmi', 'charges', 'sex_female', 'sex_male', 'children_0', 'children_1',\n",
              "       'children_2', 'children_3', 'children_4', 'children_5', 'smoker_no',\n",
              "       'smoker_yes', 'region_northeast', 'region_northwest',\n",
              "       'region_southeast', 'region_southwest', 'age_group_mid-age',\n",
              "       'age_group_old', 'age_group_young'],\n",
              "      dtype='object')"
            ]
          },
          "metadata": {
            "tags": []
          },
          "execution_count": 33
        }
      ]
    },
    {
      "cell_type": "code",
      "metadata": {
        "colab": {
          "base_uri": "https://localhost:8080/"
        },
        "id": "dPfXqt5uS8MK",
        "outputId": "0c492a01-c35f-4dec-9cdd-e3222189a57b"
      },
      "source": [
        "# Variance Inflation Factor\n",
        "health_ins_df_vif = health_ins_df_processed[['bmi', 'sex_female', 'sex_male', 'children_0', \n",
        "                                             'children_1','children_2', 'children_3', 'children_4', \n",
        "                                             'children_5', 'smoker_no','smoker_yes', 'region_northeast', \n",
        "                                             'region_northwest','region_southeast', 'region_southwest', \n",
        "                                             'age_group_mid-age','age_group_old', 'age_group_young']]\n",
        "vif_data = pd.DataFrame() \n",
        "vif_data[\"attribute\"] = health_ins_df_vif.columns \n",
        "vif_data[\"VIF\"] = [variance_inflation_factor(health_ins_df_vif.values, i) \n",
        "                          for i in range(len(health_ins_df_vif.columns))] \n",
        "  \n",
        "print(vif_data)"
      ],
      "execution_count": 34,
      "outputs": [
        {
          "output_type": "stream",
          "text": [
            "            attribute       VIF\n",
            "0                 bmi  1.099784\n",
            "1          sex_female       inf\n",
            "2            sex_male       inf\n",
            "3          children_0       inf\n",
            "4          children_1       inf\n",
            "5          children_2       inf\n",
            "6          children_3       inf\n",
            "7          children_4       inf\n",
            "8          children_5       inf\n",
            "9           smoker_no       inf\n",
            "10         smoker_yes       inf\n",
            "11   region_northeast       inf\n",
            "12   region_northwest       inf\n",
            "13   region_southeast       inf\n",
            "14   region_southwest       inf\n",
            "15  age_group_mid-age       inf\n",
            "16      age_group_old       inf\n",
            "17    age_group_young       inf\n"
          ],
          "name": "stdout"
        },
        {
          "output_type": "stream",
          "text": [
            "/usr/local/lib/python3.7/dist-packages/statsmodels/stats/outliers_influence.py:185: RuntimeWarning: divide by zero encountered in double_scalars\n",
            "  vif = 1. / (1. - r_squared_i)\n"
          ],
          "name": "stderr"
        }
      ]
    },
    {
      "cell_type": "markdown",
      "metadata": {
        "id": "3g5sDw63W3vn"
      },
      "source": [
        "**Note: The \"inf\" states that the VIF values for the variables are too large (i.e. infinity). We will need to drop variables (i.e. those that have an insignificant p-value) one by one and check if the VIF values have reduced.**"
      ]
    },
    {
      "cell_type": "markdown",
      "metadata": {
        "id": "75cJ_F70kMLC"
      },
      "source": [
        "#### Variable: Children_1"
      ]
    },
    {
      "cell_type": "code",
      "metadata": {
        "colab": {
          "base_uri": "https://localhost:8080/"
        },
        "id": "iKORi9e_WYnS",
        "outputId": "d0a508a2-d84a-44c6-8fdb-6475c66e40ff"
      },
      "source": [
        "#Dropping children_1\n",
        "X = health_ins_df_processed[['bmi','sex_female', 'sex_male', 'children_0','children_2', 'children_3', \n",
        "                             'children_4', 'children_5', 'smoker_no','smoker_yes', 'region_northeast', \n",
        "                             'region_northwest','region_southeast', 'region_southwest', \n",
        "                             'age_group_mid-age','age_group_old', 'age_group_young']]\n",
        "y = health_ins_df_processed['charges']\n",
        "\n",
        "# Split the data into training and test sets - 70% train and 30% test splits\n",
        "X_train, X_test, y_train, y_test = train_test_split(X, y, test_size=0.30)\n",
        "\n",
        "X = sm.add_constant(X) # adding a constant\n",
        "\n",
        "# Fit the Model\n",
        "model = sm.OLS(y, X).fit()\n",
        "\n",
        "# Predictions\n",
        "predictions = model.predict(X) \n",
        "\n",
        "# Check Model Summary\n",
        "print_model = model.summary()\n",
        "print(print_model)"
      ],
      "execution_count": 35,
      "outputs": [
        {
          "output_type": "stream",
          "text": [
            "                            OLS Regression Results                            \n",
            "==============================================================================\n",
            "Dep. Variable:                charges   R-squared:                       0.745\n",
            "Model:                            OLS   Adj. R-squared:                  0.742\n",
            "Method:                 Least Squares   F-statistic:                     295.0\n",
            "Date:                Mon, 17 May 2021   Prob (F-statistic):               0.00\n",
            "Time:                        15:28:17   Log-Likelihood:                -13461.\n",
            "No. Observations:                1329   AIC:                         2.695e+04\n",
            "Df Residuals:                    1315   BIC:                         2.702e+04\n",
            "Df Model:                          13                                         \n",
            "Covariance Type:            nonrobust                                         \n",
            "=====================================================================================\n",
            "                        coef    std err          t      P>|t|      [0.025      0.975]\n",
            "-------------------------------------------------------------------------------------\n",
            "const              4566.9072    382.077     11.953      0.000    3817.359    5316.455\n",
            "bmi                 346.6547     29.616     11.705      0.000     288.556     404.754\n",
            "sex_female         2315.2493    250.830      9.230      0.000    1823.179    2807.320\n",
            "sex_male           2251.6579    257.779      8.735      0.000    1745.955    2757.361\n",
            "children_0        -1055.1622    430.139     -2.453      0.014   -1898.997    -211.328\n",
            "children_2         1245.4844    522.357      2.384      0.017     220.740    2270.228\n",
            "children_3          692.5645    595.768      1.162      0.245    -476.195    1861.324\n",
            "children_4         2901.9334   1267.007      2.290      0.022     416.358    5387.509\n",
            "children_5          764.0254   1481.485      0.516      0.606   -2142.307    3670.357\n",
            "smoker_no         -9452.4472    267.530    -35.332      0.000   -9977.280   -8927.614\n",
            "smoker_yes         1.402e+04    298.487     46.968      0.000    1.34e+04    1.46e+04\n",
            "region_northeast   1801.3591    299.268      6.019      0.000    1214.263    2388.455\n",
            "region_northwest   1372.8679    300.510      4.568      0.000     783.336    1962.400\n",
            "region_southeast    638.2493    328.229      1.945      0.052      -5.661    1282.160\n",
            "region_southwest    754.4309    308.988      2.442      0.015     148.267    1360.595\n",
            "age_group_mid-age  1652.7049    285.428      5.790      0.000    1092.761    2212.649\n",
            "age_group_old      6535.9866    416.746     15.683      0.000    5718.427    7353.546\n",
            "age_group_young   -3621.7843    255.097    -14.198      0.000   -4122.225   -3121.343\n",
            "==============================================================================\n",
            "Omnibus:                      266.498   Durbin-Watson:                   2.084\n",
            "Prob(Omnibus):                  0.000   Jarque-Bera (JB):              581.715\n",
            "Skew:                           1.124   Prob(JB):                    4.81e-127\n",
            "Kurtosis:                       5.334   Cond. No.                     3.63e+17\n",
            "==============================================================================\n",
            "\n",
            "Warnings:\n",
            "[1] Standard Errors assume that the covariance matrix of the errors is correctly specified.\n",
            "[2] The smallest eigenvalue is 9.79e-30. This might indicate that there are\n",
            "strong multicollinearity problems or that the design matrix is singular.\n"
          ],
          "name": "stdout"
        }
      ]
    },
    {
      "cell_type": "code",
      "metadata": {
        "colab": {
          "base_uri": "https://localhost:8080/"
        },
        "id": "GS8EnaqeXm-z",
        "outputId": "0b76cc4f-aaa8-4840-9266-e54a87bfa984"
      },
      "source": [
        "# VIF - after dropping Children_1\n",
        "health_ins_df_vif = health_ins_df_processed[['bmi', 'sex_female', 'sex_male', 'children_0', 'children_2', \n",
        "                                             'children_3', 'children_4', 'children_5', 'smoker_no','smoker_yes', \n",
        "                                             'region_northeast', 'region_northwest','region_southeast', \n",
        "                                             'region_southwest', 'age_group_mid-age','age_group_old', \n",
        "                                             'age_group_young']]\n",
        "vif_data = pd.DataFrame() \n",
        "vif_data[\"attribute\"] = health_ins_df_vif.columns \n",
        "vif_data[\"VIF\"] = [variance_inflation_factor(health_ins_df_vif.values, i) \n",
        "                          for i in range(len(health_ins_df_vif.columns))] \n",
        "  \n",
        "print(vif_data)"
      ],
      "execution_count": 36,
      "outputs": [
        {
          "output_type": "stream",
          "text": [
            "            attribute       VIF\n",
            "0                 bmi  1.099784\n",
            "1          sex_female       inf\n",
            "2            sex_male       inf\n",
            "3          children_0  1.623418\n",
            "4          children_2  1.436293\n",
            "5          children_3  1.324000\n",
            "6          children_4  1.060919\n",
            "7          children_5  1.049968\n",
            "8           smoker_no       inf\n",
            "9          smoker_yes       inf\n",
            "10   region_northeast       inf\n",
            "11   region_northwest       inf\n",
            "12   region_southeast       inf\n",
            "13   region_southwest       inf\n",
            "14  age_group_mid-age       inf\n",
            "15      age_group_old       inf\n",
            "16    age_group_young       inf\n"
          ],
          "name": "stdout"
        },
        {
          "output_type": "stream",
          "text": [
            "/usr/local/lib/python3.7/dist-packages/statsmodels/stats/outliers_influence.py:185: RuntimeWarning: divide by zero encountered in double_scalars\n",
            "  vif = 1. / (1. - r_squared_i)\n"
          ],
          "name": "stderr"
        }
      ]
    },
    {
      "cell_type": "markdown",
      "metadata": {
        "id": "jny0LBKBg4-F"
      },
      "source": [
        "As seen above, the Adjusted R-squared value of the model did not alter from 74.2% when we dropped `Children_1` but the VIF values of some variables has reduced alot!"
      ]
    },
    {
      "cell_type": "markdown",
      "metadata": {
        "id": "vWzX_ZrLhNhM"
      },
      "source": [
        "Let's check the **Pearson** correlation of the variables once more and carefully select another variable to drop."
      ]
    },
    {
      "cell_type": "code",
      "metadata": {
        "colab": {
          "base_uri": "https://localhost:8080/",
          "height": 630
        },
        "id": "YdtVXmMLYH2X",
        "outputId": "4f4f1a4c-3a1b-4c74-c94e-ec3e00019fa2"
      },
      "source": [
        "health_ins_df_vif.corr(method ='pearson')"
      ],
      "execution_count": 37,
      "outputs": [
        {
          "output_type": "execute_result",
          "data": {
            "text/html": [
              "<div>\n",
              "<style scoped>\n",
              "    .dataframe tbody tr th:only-of-type {\n",
              "        vertical-align: middle;\n",
              "    }\n",
              "\n",
              "    .dataframe tbody tr th {\n",
              "        vertical-align: top;\n",
              "    }\n",
              "\n",
              "    .dataframe thead th {\n",
              "        text-align: right;\n",
              "    }\n",
              "</style>\n",
              "<table border=\"1\" class=\"dataframe\">\n",
              "  <thead>\n",
              "    <tr style=\"text-align: right;\">\n",
              "      <th></th>\n",
              "      <th>bmi</th>\n",
              "      <th>sex_female</th>\n",
              "      <th>sex_male</th>\n",
              "      <th>children_0</th>\n",
              "      <th>children_2</th>\n",
              "      <th>children_3</th>\n",
              "      <th>children_4</th>\n",
              "      <th>children_5</th>\n",
              "      <th>smoker_no</th>\n",
              "      <th>smoker_yes</th>\n",
              "      <th>region_northeast</th>\n",
              "      <th>region_northwest</th>\n",
              "      <th>region_southeast</th>\n",
              "      <th>region_southwest</th>\n",
              "      <th>age_group_mid-age</th>\n",
              "      <th>age_group_old</th>\n",
              "      <th>age_group_young</th>\n",
              "    </tr>\n",
              "  </thead>\n",
              "  <tbody>\n",
              "    <tr>\n",
              "      <th>bmi</th>\n",
              "      <td>1.000000</td>\n",
              "      <td>-0.039958</td>\n",
              "      <td>0.039958</td>\n",
              "      <td>-0.012986</td>\n",
              "      <td>0.023607</td>\n",
              "      <td>0.009091</td>\n",
              "      <td>0.019978</td>\n",
              "      <td>-0.018461</td>\n",
              "      <td>0.002871</td>\n",
              "      <td>-0.002871</td>\n",
              "      <td>-0.136193</td>\n",
              "      <td>-0.128598</td>\n",
              "      <td>0.255863</td>\n",
              "      <td>0.000651</td>\n",
              "      <td>0.061722</td>\n",
              "      <td>0.070413</td>\n",
              "      <td>-0.102850</td>\n",
              "    </tr>\n",
              "    <tr>\n",
              "      <th>sex_female</th>\n",
              "      <td>-0.039958</td>\n",
              "      <td>1.000000</td>\n",
              "      <td>-1.000000</td>\n",
              "      <td>0.014784</td>\n",
              "      <td>-0.003984</td>\n",
              "      <td>-0.003964</td>\n",
              "      <td>-0.015470</td>\n",
              "      <td>-0.012050</td>\n",
              "      <td>0.079854</td>\n",
              "      <td>-0.079854</td>\n",
              "      <td>-0.000573</td>\n",
              "      <td>0.009961</td>\n",
              "      <td>-0.010263</td>\n",
              "      <td>0.001195</td>\n",
              "      <td>0.011029</td>\n",
              "      <td>0.010205</td>\n",
              "      <td>-0.016922</td>\n",
              "    </tr>\n",
              "    <tr>\n",
              "      <th>sex_male</th>\n",
              "      <td>0.039958</td>\n",
              "      <td>-1.000000</td>\n",
              "      <td>1.000000</td>\n",
              "      <td>-0.014784</td>\n",
              "      <td>0.003984</td>\n",
              "      <td>0.003964</td>\n",
              "      <td>0.015470</td>\n",
              "      <td>0.012050</td>\n",
              "      <td>-0.079854</td>\n",
              "      <td>0.079854</td>\n",
              "      <td>0.000573</td>\n",
              "      <td>-0.009961</td>\n",
              "      <td>0.010263</td>\n",
              "      <td>-0.001195</td>\n",
              "      <td>-0.011029</td>\n",
              "      <td>-0.010205</td>\n",
              "      <td>0.016922</td>\n",
              "    </tr>\n",
              "    <tr>\n",
              "      <th>children_0</th>\n",
              "      <td>-0.012986</td>\n",
              "      <td>0.014784</td>\n",
              "      <td>-0.014784</td>\n",
              "      <td>1.000000</td>\n",
              "      <td>-0.405377</td>\n",
              "      <td>-0.317665</td>\n",
              "      <td>-0.120175</td>\n",
              "      <td>-0.101699</td>\n",
              "      <td>0.009183</td>\n",
              "      <td>-0.009183</td>\n",
              "      <td>0.029145</td>\n",
              "      <td>-0.027001</td>\n",
              "      <td>0.002113</td>\n",
              "      <td>-0.004267</td>\n",
              "      <td>-0.122139</td>\n",
              "      <td>0.150396</td>\n",
              "      <td>0.025982</td>\n",
              "    </tr>\n",
              "    <tr>\n",
              "      <th>children_2</th>\n",
              "      <td>0.023607</td>\n",
              "      <td>-0.003984</td>\n",
              "      <td>0.003984</td>\n",
              "      <td>-0.405377</td>\n",
              "      <td>1.000000</td>\n",
              "      <td>-0.170947</td>\n",
              "      <td>-0.064671</td>\n",
              "      <td>-0.054728</td>\n",
              "      <td>-0.026637</td>\n",
              "      <td>0.026637</td>\n",
              "      <td>-0.035887</td>\n",
              "      <td>0.035606</td>\n",
              "      <td>0.009155</td>\n",
              "      <td>-0.009244</td>\n",
              "      <td>0.063833</td>\n",
              "      <td>-0.082676</td>\n",
              "      <td>-0.011082</td>\n",
              "    </tr>\n",
              "    <tr>\n",
              "      <th>children_3</th>\n",
              "      <td>0.009091</td>\n",
              "      <td>-0.003964</td>\n",
              "      <td>0.003964</td>\n",
              "      <td>-0.317665</td>\n",
              "      <td>-0.170947</td>\n",
              "      <td>1.000000</td>\n",
              "      <td>-0.050678</td>\n",
              "      <td>-0.042887</td>\n",
              "      <td>-0.040420</td>\n",
              "      <td>0.040420</td>\n",
              "      <td>0.004580</td>\n",
              "      <td>0.041256</td>\n",
              "      <td>-0.037731</td>\n",
              "      <td>-0.006925</td>\n",
              "      <td>0.027797</td>\n",
              "      <td>0.004414</td>\n",
              "      <td>-0.029592</td>\n",
              "    </tr>\n",
              "    <tr>\n",
              "      <th>children_4</th>\n",
              "      <td>0.019978</td>\n",
              "      <td>-0.015470</td>\n",
              "      <td>0.015470</td>\n",
              "      <td>-0.120175</td>\n",
              "      <td>-0.064671</td>\n",
              "      <td>-0.050678</td>\n",
              "      <td>1.000000</td>\n",
              "      <td>-0.016224</td>\n",
              "      <td>0.028837</td>\n",
              "      <td>-0.028837</td>\n",
              "      <td>0.011931</td>\n",
              "      <td>-0.001464</td>\n",
              "      <td>-0.021437</td>\n",
              "      <td>0.011676</td>\n",
              "      <td>-0.003140</td>\n",
              "      <td>-0.029224</td>\n",
              "      <td>0.020945</td>\n",
              "    </tr>\n",
              "    <tr>\n",
              "      <th>children_5</th>\n",
              "      <td>-0.018461</td>\n",
              "      <td>-0.012050</td>\n",
              "      <td>0.012050</td>\n",
              "      <td>-0.101699</td>\n",
              "      <td>-0.054728</td>\n",
              "      <td>-0.042887</td>\n",
              "      <td>-0.016224</td>\n",
              "      <td>1.000000</td>\n",
              "      <td>0.043146</td>\n",
              "      <td>-0.043146</td>\n",
              "      <td>-0.020864</td>\n",
              "      <td>-0.051521</td>\n",
              "      <td>0.017107</td>\n",
              "      <td>0.054758</td>\n",
              "      <td>-0.009126</td>\n",
              "      <td>-0.040047</td>\n",
              "      <td>0.033367</td>\n",
              "    </tr>\n",
              "    <tr>\n",
              "      <th>smoker_no</th>\n",
              "      <td>0.002871</td>\n",
              "      <td>0.079854</td>\n",
              "      <td>-0.079854</td>\n",
              "      <td>0.009183</td>\n",
              "      <td>-0.026637</td>\n",
              "      <td>-0.040420</td>\n",
              "      <td>0.028837</td>\n",
              "      <td>0.043146</td>\n",
              "      <td>1.000000</td>\n",
              "      <td>-1.000000</td>\n",
              "      <td>-0.004947</td>\n",
              "      <td>0.035940</td>\n",
              "      <td>-0.068270</td>\n",
              "      <td>0.039440</td>\n",
              "      <td>0.029108</td>\n",
              "      <td>-0.016209</td>\n",
              "      <td>-0.018222</td>\n",
              "    </tr>\n",
              "    <tr>\n",
              "      <th>smoker_yes</th>\n",
              "      <td>-0.002871</td>\n",
              "      <td>-0.079854</td>\n",
              "      <td>0.079854</td>\n",
              "      <td>-0.009183</td>\n",
              "      <td>0.026637</td>\n",
              "      <td>0.040420</td>\n",
              "      <td>-0.028837</td>\n",
              "      <td>-0.043146</td>\n",
              "      <td>-1.000000</td>\n",
              "      <td>1.000000</td>\n",
              "      <td>0.004947</td>\n",
              "      <td>-0.035940</td>\n",
              "      <td>0.068270</td>\n",
              "      <td>-0.039440</td>\n",
              "      <td>-0.029108</td>\n",
              "      <td>0.016209</td>\n",
              "      <td>0.018222</td>\n",
              "    </tr>\n",
              "    <tr>\n",
              "      <th>region_northeast</th>\n",
              "      <td>-0.136193</td>\n",
              "      <td>-0.000573</td>\n",
              "      <td>0.000573</td>\n",
              "      <td>0.029145</td>\n",
              "      <td>-0.035887</td>\n",
              "      <td>0.004580</td>\n",
              "      <td>0.011931</td>\n",
              "      <td>-0.020864</td>\n",
              "      <td>-0.004947</td>\n",
              "      <td>0.004947</td>\n",
              "      <td>1.000000</td>\n",
              "      <td>-0.322387</td>\n",
              "      <td>-0.343402</td>\n",
              "      <td>-0.321730</td>\n",
              "      <td>0.004290</td>\n",
              "      <td>-0.004486</td>\n",
              "      <td>-0.001401</td>\n",
              "    </tr>\n",
              "    <tr>\n",
              "      <th>region_northwest</th>\n",
              "      <td>-0.128598</td>\n",
              "      <td>0.009961</td>\n",
              "      <td>-0.009961</td>\n",
              "      <td>-0.027001</td>\n",
              "      <td>0.035606</td>\n",
              "      <td>0.041256</td>\n",
              "      <td>-0.001464</td>\n",
              "      <td>-0.051521</td>\n",
              "      <td>0.035940</td>\n",
              "      <td>-0.035940</td>\n",
              "      <td>-0.322387</td>\n",
              "      <td>1.000000</td>\n",
              "      <td>-0.344807</td>\n",
              "      <td>-0.323046</td>\n",
              "      <td>-0.002032</td>\n",
              "      <td>-0.005673</td>\n",
              "      <td>0.005441</td>\n",
              "    </tr>\n",
              "    <tr>\n",
              "      <th>region_southeast</th>\n",
              "      <td>0.255863</td>\n",
              "      <td>-0.010263</td>\n",
              "      <td>0.010263</td>\n",
              "      <td>0.002113</td>\n",
              "      <td>0.009155</td>\n",
              "      <td>-0.037731</td>\n",
              "      <td>-0.021437</td>\n",
              "      <td>0.017107</td>\n",
              "      <td>-0.068270</td>\n",
              "      <td>0.068270</td>\n",
              "      <td>-0.343402</td>\n",
              "      <td>-0.344807</td>\n",
              "      <td>1.000000</td>\n",
              "      <td>-0.344105</td>\n",
              "      <td>-0.012058</td>\n",
              "      <td>0.009216</td>\n",
              "      <td>0.006016</td>\n",
              "    </tr>\n",
              "    <tr>\n",
              "      <th>region_southwest</th>\n",
              "      <td>0.000651</td>\n",
              "      <td>0.001195</td>\n",
              "      <td>-0.001195</td>\n",
              "      <td>-0.004267</td>\n",
              "      <td>-0.009244</td>\n",
              "      <td>-0.006925</td>\n",
              "      <td>0.011676</td>\n",
              "      <td>0.054758</td>\n",
              "      <td>0.039440</td>\n",
              "      <td>-0.039440</td>\n",
              "      <td>-0.321730</td>\n",
              "      <td>-0.323046</td>\n",
              "      <td>-0.344105</td>\n",
              "      <td>1.000000</td>\n",
              "      <td>0.010195</td>\n",
              "      <td>0.000646</td>\n",
              "      <td>-0.010258</td>\n",
              "    </tr>\n",
              "    <tr>\n",
              "      <th>age_group_mid-age</th>\n",
              "      <td>0.061722</td>\n",
              "      <td>0.011029</td>\n",
              "      <td>-0.011029</td>\n",
              "      <td>-0.122139</td>\n",
              "      <td>0.063833</td>\n",
              "      <td>0.027797</td>\n",
              "      <td>-0.003140</td>\n",
              "      <td>-0.009126</td>\n",
              "      <td>0.029108</td>\n",
              "      <td>-0.029108</td>\n",
              "      <td>0.004290</td>\n",
              "      <td>-0.002032</td>\n",
              "      <td>-0.012058</td>\n",
              "      <td>0.010195</td>\n",
              "      <td>1.000000</td>\n",
              "      <td>-0.262455</td>\n",
              "      <td>-0.806451</td>\n",
              "    </tr>\n",
              "    <tr>\n",
              "      <th>age_group_old</th>\n",
              "      <td>0.070413</td>\n",
              "      <td>0.010205</td>\n",
              "      <td>-0.010205</td>\n",
              "      <td>0.150396</td>\n",
              "      <td>-0.082676</td>\n",
              "      <td>0.004414</td>\n",
              "      <td>-0.029224</td>\n",
              "      <td>-0.040047</td>\n",
              "      <td>-0.016209</td>\n",
              "      <td>0.016209</td>\n",
              "      <td>-0.004486</td>\n",
              "      <td>-0.005673</td>\n",
              "      <td>0.009216</td>\n",
              "      <td>0.000646</td>\n",
              "      <td>-0.262455</td>\n",
              "      <td>1.000000</td>\n",
              "      <td>-0.358915</td>\n",
              "    </tr>\n",
              "    <tr>\n",
              "      <th>age_group_young</th>\n",
              "      <td>-0.102850</td>\n",
              "      <td>-0.016922</td>\n",
              "      <td>0.016922</td>\n",
              "      <td>0.025982</td>\n",
              "      <td>-0.011082</td>\n",
              "      <td>-0.029592</td>\n",
              "      <td>0.020945</td>\n",
              "      <td>0.033367</td>\n",
              "      <td>-0.018222</td>\n",
              "      <td>0.018222</td>\n",
              "      <td>-0.001401</td>\n",
              "      <td>0.005441</td>\n",
              "      <td>0.006016</td>\n",
              "      <td>-0.010258</td>\n",
              "      <td>-0.806451</td>\n",
              "      <td>-0.358915</td>\n",
              "      <td>1.000000</td>\n",
              "    </tr>\n",
              "  </tbody>\n",
              "</table>\n",
              "</div>"
            ],
            "text/plain": [
              "                        bmi  sex_female  ...  age_group_old  age_group_young\n",
              "bmi                1.000000   -0.039958  ...       0.070413        -0.102850\n",
              "sex_female        -0.039958    1.000000  ...       0.010205        -0.016922\n",
              "sex_male           0.039958   -1.000000  ...      -0.010205         0.016922\n",
              "children_0        -0.012986    0.014784  ...       0.150396         0.025982\n",
              "children_2         0.023607   -0.003984  ...      -0.082676        -0.011082\n",
              "children_3         0.009091   -0.003964  ...       0.004414        -0.029592\n",
              "children_4         0.019978   -0.015470  ...      -0.029224         0.020945\n",
              "children_5        -0.018461   -0.012050  ...      -0.040047         0.033367\n",
              "smoker_no          0.002871    0.079854  ...      -0.016209        -0.018222\n",
              "smoker_yes        -0.002871   -0.079854  ...       0.016209         0.018222\n",
              "region_northeast  -0.136193   -0.000573  ...      -0.004486        -0.001401\n",
              "region_northwest  -0.128598    0.009961  ...      -0.005673         0.005441\n",
              "region_southeast   0.255863   -0.010263  ...       0.009216         0.006016\n",
              "region_southwest   0.000651    0.001195  ...       0.000646        -0.010258\n",
              "age_group_mid-age  0.061722    0.011029  ...      -0.262455        -0.806451\n",
              "age_group_old      0.070413    0.010205  ...       1.000000        -0.358915\n",
              "age_group_young   -0.102850   -0.016922  ...      -0.358915         1.000000\n",
              "\n",
              "[17 rows x 17 columns]"
            ]
          },
          "metadata": {
            "tags": []
          },
          "execution_count": 37
        }
      ]
    },
    {
      "cell_type": "markdown",
      "metadata": {
        "id": "COR1uXKUkTTq"
      },
      "source": [
        "#### Variable: Sex_Male"
      ]
    },
    {
      "cell_type": "code",
      "metadata": {
        "colab": {
          "base_uri": "https://localhost:8080/"
        },
        "id": "0_x3I3PjYYGI",
        "outputId": "a22680be-4d55-4a07-a3c2-818f30dc5a1b"
      },
      "source": [
        "#Dropping sex_male\n",
        "X = health_ins_df_processed[['bmi','sex_female', 'children_0','children_2', 'children_3', 'children_4', \n",
        "                             'children_5', 'smoker_no','smoker_yes', 'region_northeast', 'region_northwest',\n",
        "                             'region_southeast', 'region_southwest', 'age_group_mid-age','age_group_old', \n",
        "                             'age_group_young']]\n",
        "y = health_ins_df_processed['charges']\n",
        "\n",
        "# Split the data into training and test sets - 70% train and 30% test splits\n",
        "X_train, X_test, y_train, y_test = train_test_split(X, y, test_size=0.30)\n",
        "\n",
        "X = sm.add_constant(X) # adding a constant\n",
        "\n",
        "# Fit the Model\n",
        "model = sm.OLS(y, X).fit()\n",
        "\n",
        "# Predictions\n",
        "predictions = model.predict(X) \n",
        "\n",
        "# Check Model Summary\n",
        "print_model = model.summary()\n",
        "print(print_model)"
      ],
      "execution_count": 38,
      "outputs": [
        {
          "output_type": "stream",
          "text": [
            "                            OLS Regression Results                            \n",
            "==============================================================================\n",
            "Dep. Variable:                charges   R-squared:                       0.745\n",
            "Model:                            OLS   Adj. R-squared:                  0.742\n",
            "Method:                 Least Squares   F-statistic:                     295.0\n",
            "Date:                Mon, 17 May 2021   Prob (F-statistic):               0.00\n",
            "Time:                        15:29:48   Log-Likelihood:                -13461.\n",
            "No. Observations:                1329   AIC:                         2.695e+04\n",
            "Df Residuals:                    1315   BIC:                         2.702e+04\n",
            "Df Model:                          13                                         \n",
            "Covariance Type:            nonrobust                                         \n",
            "=====================================================================================\n",
            "                        coef    std err          t      P>|t|      [0.025      0.975]\n",
            "-------------------------------------------------------------------------------------\n",
            "const              5647.7031    482.765     11.699      0.000    4700.630    6594.776\n",
            "bmi                 346.6547     29.616     11.705      0.000     288.556     404.754\n",
            "sex_female           63.5914    335.780      0.189      0.850    -595.131     722.314\n",
            "children_0        -1055.1622    430.139     -2.453      0.014   -1898.997    -211.328\n",
            "children_2         1245.4844    522.357      2.384      0.017     220.740    2270.228\n",
            "children_3          692.5645    595.768      1.162      0.245    -476.195    1861.324\n",
            "children_4         2901.9334   1267.007      2.290      0.022     416.358    5387.509\n",
            "children_5          764.0254   1481.485      0.516      0.606   -2142.307    3670.357\n",
            "smoker_no         -8912.0493    304.306    -29.286      0.000   -9509.028   -8315.070\n",
            "smoker_yes         1.456e+04    334.071     43.583      0.000    1.39e+04    1.52e+04\n",
            "region_northeast   2071.5581    305.440      6.782      0.000    1472.354    2670.762\n",
            "region_northwest   1643.0669    307.105      5.350      0.000    1040.597    2245.537\n",
            "region_southeast    908.4482    340.834      2.665      0.008     239.810    1577.087\n",
            "region_southwest   1024.6299    317.916      3.223      0.001     400.953    1648.307\n",
            "age_group_mid-age  2012.9702    299.598      6.719      0.000    1425.228    2600.712\n",
            "age_group_old      6896.2519    434.024     15.889      0.000    6044.797    7747.707\n",
            "age_group_young   -3261.5191    266.667    -12.231      0.000   -3784.657   -2738.381\n",
            "==============================================================================\n",
            "Omnibus:                      266.498   Durbin-Watson:                   2.084\n",
            "Prob(Omnibus):                  0.000   Jarque-Bera (JB):              581.715\n",
            "Skew:                           1.124   Prob(JB):                    4.81e-127\n",
            "Kurtosis:                       5.334   Cond. No.                     2.65e+17\n",
            "==============================================================================\n",
            "\n",
            "Warnings:\n",
            "[1] Standard Errors assume that the covariance matrix of the errors is correctly specified.\n",
            "[2] The smallest eigenvalue is 1.84e-29. This might indicate that there are\n",
            "strong multicollinearity problems or that the design matrix is singular.\n"
          ],
          "name": "stdout"
        }
      ]
    },
    {
      "cell_type": "code",
      "metadata": {
        "colab": {
          "base_uri": "https://localhost:8080/"
        },
        "id": "O0IVHBoRYtkS",
        "outputId": "d01601e9-1859-4a09-ad32-58c792ab9960"
      },
      "source": [
        "# VIF - after dropping sex_male\n",
        "health_ins_df_vif = health_ins_df_processed[['bmi', 'sex_female', 'children_0', 'children_2', \n",
        "                                             'children_3', 'children_4', 'children_5', 'smoker_no','smoker_yes', \n",
        "                                             'region_northeast', 'region_northwest','region_southeast', \n",
        "                                             'region_southwest', 'age_group_mid-age','age_group_old', \n",
        "                                             'age_group_young']]\n",
        "vif_data = pd.DataFrame() \n",
        "vif_data[\"attribute\"] = health_ins_df_vif.columns \n",
        "vif_data[\"VIF\"] = [variance_inflation_factor(health_ins_df_vif.values, i) \n",
        "                          for i in range(len(health_ins_df_vif.columns))] \n",
        "  \n",
        "print(vif_data)"
      ],
      "execution_count": 39,
      "outputs": [
        {
          "output_type": "stream",
          "text": [
            "            attribute       VIF\n",
            "0                 bmi  1.098248\n",
            "1          sex_female  1.009197\n",
            "2          children_0  1.623418\n",
            "3          children_2  1.436293\n",
            "4          children_3  1.324000\n",
            "5          children_4  1.060919\n",
            "6          children_5  1.049968\n",
            "7           smoker_no       inf\n",
            "8          smoker_yes       inf\n",
            "9    region_northeast       inf\n",
            "10   region_northwest       inf\n",
            "11   region_southeast       inf\n",
            "12   region_southwest       inf\n",
            "13  age_group_mid-age       inf\n",
            "14      age_group_old       inf\n",
            "15    age_group_young       inf\n"
          ],
          "name": "stdout"
        },
        {
          "output_type": "stream",
          "text": [
            "/usr/local/lib/python3.7/dist-packages/statsmodels/stats/outliers_influence.py:185: RuntimeWarning: divide by zero encountered in double_scalars\n",
            "  vif = 1. / (1. - r_squared_i)\n"
          ],
          "name": "stderr"
        }
      ]
    },
    {
      "cell_type": "markdown",
      "metadata": {
        "id": "hJqrahvxkYPZ"
      },
      "source": [
        "#### Variable: Smoker_No"
      ]
    },
    {
      "cell_type": "code",
      "metadata": {
        "colab": {
          "base_uri": "https://localhost:8080/"
        },
        "id": "XV0RBlZuZfRS",
        "outputId": "63ffcf62-b96c-40ff-9f8c-6522dfe7daed"
      },
      "source": [
        "#Dropping smoker_no\n",
        "X = health_ins_df_processed[['bmi','sex_female', 'children_0','children_2', 'children_3', 'children_4', \n",
        "                             'children_5', 'smoker_yes', 'region_northeast', 'region_northwest',\n",
        "                             'region_southeast', 'region_southwest', 'age_group_mid-age','age_group_old', \n",
        "                             'age_group_young']]\n",
        "y = health_ins_df_processed['charges']\n",
        "\n",
        "# Split the data into training and test sets - 70% train and 30% test splits\n",
        "X_train, X_test, y_train, y_test = train_test_split(X, y, test_size=0.30)\n",
        "\n",
        "X = sm.add_constant(X) # adding a constant\n",
        "\n",
        "# Fit the Model\n",
        "model = sm.OLS(y, X).fit()\n",
        "\n",
        "# Predictions\n",
        "predictions = model.predict(X) \n",
        "\n",
        "# Check Model Summary\n",
        "print_model = model.summary()\n",
        "print(print_model)"
      ],
      "execution_count": 40,
      "outputs": [
        {
          "output_type": "stream",
          "text": [
            "                            OLS Regression Results                            \n",
            "==============================================================================\n",
            "Dep. Variable:                charges   R-squared:                       0.745\n",
            "Model:                            OLS   Adj. R-squared:                  0.742\n",
            "Method:                 Least Squares   F-statistic:                     295.0\n",
            "Date:                Mon, 17 May 2021   Prob (F-statistic):               0.00\n",
            "Time:                        15:29:58   Log-Likelihood:                -13461.\n",
            "No. Observations:                1329   AIC:                         2.695e+04\n",
            "Df Residuals:                    1315   BIC:                         2.702e+04\n",
            "Df Model:                          13                                         \n",
            "Covariance Type:            nonrobust                                         \n",
            "=====================================================================================\n",
            "                        coef    std err          t      P>|t|      [0.025      0.975]\n",
            "-------------------------------------------------------------------------------------\n",
            "const                19.0403    636.550      0.030      0.976   -1229.724    1267.805\n",
            "bmi                 346.6547     29.616     11.705      0.000     288.556     404.754\n",
            "sex_female           63.5914    335.780      0.189      0.850    -595.131     722.314\n",
            "children_0        -1055.1622    430.139     -2.453      0.014   -1898.997    -211.328\n",
            "children_2         1245.4844    522.357      2.384      0.017     220.740    2270.228\n",
            "children_3          692.5645    595.768      1.162      0.245    -476.195    1861.324\n",
            "children_4         2901.9334   1267.007      2.290      0.022     416.358    5387.509\n",
            "children_5          764.0254   1481.485      0.516      0.606   -2142.307    3670.357\n",
            "smoker_yes         2.347e+04    418.749     56.052      0.000    2.27e+04    2.43e+04\n",
            "region_northeast    664.3924    318.489      2.086      0.037      39.590    1289.195\n",
            "region_northwest    235.9012    319.206      0.739      0.460    -390.307     862.109\n",
            "region_southeast   -498.7174    364.865     -1.367      0.172   -1214.498     217.063\n",
            "region_southwest   -382.5358    333.805     -1.146      0.252   -1037.384     272.312\n",
            "age_group_mid-age   136.7493    325.358      0.420      0.674    -501.529     775.028\n",
            "age_group_old      5020.0310    464.775     10.801      0.000    4108.250    5931.812\n",
            "age_group_young   -5137.7400    291.121    -17.648      0.000   -5708.851   -4566.629\n",
            "==============================================================================\n",
            "Omnibus:                      266.498   Durbin-Watson:                   2.084\n",
            "Prob(Omnibus):                  0.000   Jarque-Bera (JB):              581.715\n",
            "Skew:                           1.124   Prob(JB):                    4.81e-127\n",
            "Kurtosis:                       5.334   Cond. No.                     2.32e+17\n",
            "==============================================================================\n",
            "\n",
            "Warnings:\n",
            "[1] Standard Errors assume that the covariance matrix of the errors is correctly specified.\n",
            "[2] The smallest eigenvalue is 2.39e-29. This might indicate that there are\n",
            "strong multicollinearity problems or that the design matrix is singular.\n"
          ],
          "name": "stdout"
        }
      ]
    },
    {
      "cell_type": "code",
      "metadata": {
        "colab": {
          "base_uri": "https://localhost:8080/"
        },
        "id": "ysxMgW1Jid34",
        "outputId": "478572ed-84fb-43df-a76e-5f6abebb0832"
      },
      "source": [
        "# VIF - after dropping smoker_no\n",
        "health_ins_df_vif = health_ins_df_processed[['bmi', 'sex_female', 'children_0', 'children_2', \n",
        "                                             'children_3', 'children_4', 'children_5', 'smoker_yes', \n",
        "                                             'region_northeast', 'region_northwest','region_southeast', \n",
        "                                             'region_southwest', 'age_group_mid-age','age_group_old', \n",
        "                                             'age_group_young']]\n",
        "vif_data = pd.DataFrame() \n",
        "vif_data[\"attribute\"] = health_ins_df_vif.columns \n",
        "vif_data[\"VIF\"] = [variance_inflation_factor(health_ins_df_vif.values, i) \n",
        "                          for i in range(len(health_ins_df_vif.columns))] \n",
        "  \n",
        "print(vif_data)"
      ],
      "execution_count": 41,
      "outputs": [
        {
          "output_type": "stream",
          "text": [
            "            attribute       VIF\n",
            "0                 bmi  1.099784\n",
            "1          sex_female  1.009197\n",
            "2          children_0  1.623418\n",
            "3          children_2  1.436293\n",
            "4          children_3  1.324000\n",
            "5          children_4  1.060919\n",
            "6          children_5  1.049968\n",
            "7          smoker_yes  1.019222\n",
            "8    region_northeast       inf\n",
            "9    region_northwest       inf\n",
            "10   region_southeast       inf\n",
            "11   region_southwest       inf\n",
            "12  age_group_mid-age       inf\n",
            "13      age_group_old       inf\n",
            "14    age_group_young       inf\n"
          ],
          "name": "stdout"
        },
        {
          "output_type": "stream",
          "text": [
            "/usr/local/lib/python3.7/dist-packages/statsmodels/stats/outliers_influence.py:185: RuntimeWarning: divide by zero encountered in double_scalars\n",
            "  vif = 1. / (1. - r_squared_i)\n"
          ],
          "name": "stderr"
        }
      ]
    },
    {
      "cell_type": "markdown",
      "metadata": {
        "id": "ps0cd0nUkcPK"
      },
      "source": [
        "#### Variable: Sex_Female"
      ]
    },
    {
      "cell_type": "code",
      "metadata": {
        "colab": {
          "base_uri": "https://localhost:8080/"
        },
        "id": "YHrD_w7wjb8e",
        "outputId": "85b378ff-fc1f-48d2-d880-e40a65ba4114"
      },
      "source": [
        "#Dropping sex_female\n",
        "X = health_ins_df_processed[['bmi', 'children_0','children_2', 'children_3', 'children_4', \n",
        "                             'children_5', 'smoker_yes', 'region_northeast', 'region_northwest',\n",
        "                             'region_southeast', 'region_southwest', 'age_group_mid-age','age_group_old', \n",
        "                             'age_group_young']]\n",
        "y = health_ins_df_processed['charges']\n",
        "\n",
        "# Split the data into training and test sets - 70% train and 30% test splits\n",
        "X_train, X_test, y_train, y_test = train_test_split(X, y, test_size=0.30)\n",
        "\n",
        "X = sm.add_constant(X) # adding a constant\n",
        "\n",
        "# Fit the Model\n",
        "model = sm.OLS(y, X).fit()\n",
        "\n",
        "# Predictions\n",
        "predictions = model.predict(X) \n",
        "\n",
        "# Check Model Summary\n",
        "print_model = model.summary()\n",
        "print(print_model)"
      ],
      "execution_count": 42,
      "outputs": [
        {
          "output_type": "stream",
          "text": [
            "                            OLS Regression Results                            \n",
            "==============================================================================\n",
            "Dep. Variable:                charges   R-squared:                       0.745\n",
            "Model:                            OLS   Adj. R-squared:                  0.742\n",
            "Method:                 Least Squares   F-statistic:                     319.8\n",
            "Date:                Mon, 17 May 2021   Prob (F-statistic):               0.00\n",
            "Time:                        15:30:07   Log-Likelihood:                -13461.\n",
            "No. Observations:                1329   AIC:                         2.695e+04\n",
            "Df Residuals:                    1316   BIC:                         2.701e+04\n",
            "Df Model:                          12                                         \n",
            "Covariance Type:            nonrobust                                         \n",
            "=====================================================================================\n",
            "                        coef    std err          t      P>|t|      [0.025      0.975]\n",
            "-------------------------------------------------------------------------------------\n",
            "const                44.3968    622.082      0.071      0.943   -1175.984    1264.777\n",
            "bmi                 346.4177     29.578     11.712      0.000     288.392     404.444\n",
            "children_0        -1054.4117    429.964     -2.452      0.014   -1897.901    -210.923\n",
            "children_2         1245.7003    522.164      2.386      0.017     221.335    2270.066\n",
            "children_3          692.7750    595.549      1.163      0.245    -475.554    1861.104\n",
            "children_4         2898.4749   1266.411      2.289      0.022     414.070    5382.880\n",
            "children_5          760.0426   1480.793      0.513      0.608   -2144.930    3665.015\n",
            "smoker_yes         2.347e+04    417.228     56.241      0.000    2.26e+04    2.43e+04\n",
            "region_northeast    670.3725    316.804      2.116      0.035      48.877    1291.869\n",
            "region_northwest    242.2979    317.297      0.764      0.445    -380.166     864.762\n",
            "region_southeast   -492.0241    363.016     -1.355      0.176   -1204.177     220.129\n",
            "region_southwest   -376.2495    332.029     -1.133      0.257   -1027.613     275.114\n",
            "age_group_mid-age   145.3706    322.040      0.451      0.652    -486.397     777.138\n",
            "age_group_old      5029.2512    462.048     10.885      0.000    4122.819    5935.683\n",
            "age_group_young   -5130.2250    288.298    -17.795      0.000   -5695.799   -4564.651\n",
            "==============================================================================\n",
            "Omnibus:                      266.624   Durbin-Watson:                   2.084\n",
            "Prob(Omnibus):                  0.000   Jarque-Bera (JB):              582.025\n",
            "Skew:                           1.125   Prob(JB):                    4.12e-127\n",
            "Kurtosis:                       5.334   Cond. No.                     2.43e+17\n",
            "==============================================================================\n",
            "\n",
            "Warnings:\n",
            "[1] Standard Errors assume that the covariance matrix of the errors is correctly specified.\n",
            "[2] The smallest eigenvalue is 2.19e-29. This might indicate that there are\n",
            "strong multicollinearity problems or that the design matrix is singular.\n"
          ],
          "name": "stdout"
        }
      ]
    },
    {
      "cell_type": "code",
      "metadata": {
        "colab": {
          "base_uri": "https://localhost:8080/"
        },
        "id": "jEFHVyipjkdz",
        "outputId": "d4d5d537-adf4-4a70-87d2-bc71319c1558"
      },
      "source": [
        "# VIF - after dropping sex_female\n",
        "health_ins_df_vif = health_ins_df_processed[['bmi', 'children_0', 'children_2', \n",
        "                                             'children_3', 'children_4', 'children_5', 'smoker_yes', \n",
        "                                             'region_northeast', 'region_northwest','region_southeast', \n",
        "                                             'region_southwest', 'age_group_mid-age','age_group_old', \n",
        "                                             'age_group_young']]\n",
        "vif_data = pd.DataFrame() \n",
        "vif_data[\"attribute\"] = health_ins_df_vif.columns \n",
        "vif_data[\"VIF\"] = [variance_inflation_factor(health_ins_df_vif.values, i) \n",
        "                          for i in range(len(health_ins_df_vif.columns))] \n",
        "  \n",
        "print(vif_data)"
      ],
      "execution_count": 43,
      "outputs": [
        {
          "output_type": "stream",
          "text": [
            "            attribute       VIF\n",
            "0                 bmi  1.097820\n",
            "1          children_0  1.623280\n",
            "2          children_2  1.436286\n",
            "3          children_3  1.323996\n",
            "4          children_4  1.060698\n",
            "5          children_5  1.049756\n",
            "6          smoker_yes  1.012572\n",
            "7    region_northeast       inf\n",
            "8    region_northwest       inf\n",
            "9    region_southeast       inf\n",
            "10   region_southwest       inf\n",
            "11  age_group_mid-age       inf\n",
            "12      age_group_old       inf\n",
            "13    age_group_young       inf\n"
          ],
          "name": "stdout"
        },
        {
          "output_type": "stream",
          "text": [
            "/usr/local/lib/python3.7/dist-packages/statsmodels/stats/outliers_influence.py:185: RuntimeWarning: divide by zero encountered in double_scalars\n",
            "  vif = 1. / (1. - r_squared_i)\n"
          ],
          "name": "stderr"
        }
      ]
    },
    {
      "cell_type": "markdown",
      "metadata": {
        "id": "gQmUgPcqkf4E"
      },
      "source": [
        "#### Variable: Region_NorthWest"
      ]
    },
    {
      "cell_type": "code",
      "metadata": {
        "colab": {
          "base_uri": "https://localhost:8080/"
        },
        "id": "0fWBFqFxiqzj",
        "outputId": "7fa1af91-fe03-4b8c-a33e-8fa9b4e364a6"
      },
      "source": [
        "#Dropping region_northwest\n",
        "X = health_ins_df_processed[['bmi', 'children_0','children_2', 'children_3', 'children_4', \n",
        "                             'children_5', 'smoker_yes', 'region_northeast',\n",
        "                             'region_southeast', 'region_southwest', 'age_group_mid-age','age_group_old', \n",
        "                             'age_group_young']]\n",
        "y = health_ins_df_processed['charges']\n",
        "\n",
        "# Split the data into training and test sets - 70% train and 30% test splits\n",
        "X_train, X_test, y_train, y_test = train_test_split(X, y, test_size=0.30)\n",
        "\n",
        "X = sm.add_constant(X) # adding a constant\n",
        "\n",
        "# Fit the Model\n",
        "model = sm.OLS(y, X).fit()\n",
        "\n",
        "# Predictions\n",
        "predictions = model.predict(X) \n",
        "\n",
        "# Check Model Summary\n",
        "print_model = model.summary()\n",
        "print(print_model)"
      ],
      "execution_count": 44,
      "outputs": [
        {
          "output_type": "stream",
          "text": [
            "                            OLS Regression Results                            \n",
            "==============================================================================\n",
            "Dep. Variable:                charges   R-squared:                       0.745\n",
            "Model:                            OLS   Adj. R-squared:                  0.742\n",
            "Method:                 Least Squares   F-statistic:                     319.8\n",
            "Date:                Mon, 17 May 2021   Prob (F-statistic):               0.00\n",
            "Time:                        15:30:16   Log-Likelihood:                -13461.\n",
            "No. Observations:                1329   AIC:                         2.695e+04\n",
            "Df Residuals:                    1316   BIC:                         2.701e+04\n",
            "Df Model:                          12                                         \n",
            "Covariance Type:            nonrobust                                         \n",
            "=====================================================================================\n",
            "                        coef    std err          t      P>|t|      [0.025      0.975]\n",
            "-------------------------------------------------------------------------------------\n",
            "const               226.1202    746.164      0.303      0.762   -1237.681    1689.921\n",
            "bmi                 346.4177     29.578     11.712      0.000     288.392     404.444\n",
            "children_0        -1054.4117    429.964     -2.452      0.014   -1897.901    -210.923\n",
            "children_2         1245.7003    522.164      2.386      0.017     221.335    2270.066\n",
            "children_3          692.7750    595.549      1.163      0.245    -475.554    1861.104\n",
            "children_4         2898.4749   1266.411      2.289      0.022     414.070    5382.880\n",
            "children_5          760.0426   1480.793      0.513      0.608   -2144.930    3665.015\n",
            "smoker_yes         2.347e+04    417.228     56.241      0.000    2.26e+04    2.43e+04\n",
            "region_northeast    428.0747    479.472      0.893      0.372    -512.537    1368.687\n",
            "region_southeast   -734.3219    483.103     -1.520      0.129   -1682.058     213.414\n",
            "region_southwest   -618.5474    481.287     -1.285      0.199   -1562.720     325.625\n",
            "age_group_mid-age   205.9451    347.442      0.593      0.553    -475.656     887.546\n",
            "age_group_old      5089.8257    488.111     10.428      0.000    4132.264    6047.387\n",
            "age_group_young   -5069.6505    312.949    -16.200      0.000   -5683.584   -4455.717\n",
            "==============================================================================\n",
            "Omnibus:                      266.624   Durbin-Watson:                   2.084\n",
            "Prob(Omnibus):                  0.000   Jarque-Bera (JB):              582.025\n",
            "Skew:                           1.125   Prob(JB):                    4.12e-127\n",
            "Kurtosis:                       5.334   Cond. No.                     2.58e+16\n",
            "==============================================================================\n",
            "\n",
            "Warnings:\n",
            "[1] Standard Errors assume that the covariance matrix of the errors is correctly specified.\n",
            "[2] The smallest eigenvalue is 1.93e-27. This might indicate that there are\n",
            "strong multicollinearity problems or that the design matrix is singular.\n"
          ],
          "name": "stdout"
        }
      ]
    },
    {
      "cell_type": "code",
      "metadata": {
        "colab": {
          "base_uri": "https://localhost:8080/"
        },
        "id": "JV6joYaGjGfh",
        "outputId": "9c858365-0a59-4803-c25c-265b0eaf4333"
      },
      "source": [
        "# VIF - after dropping region_northwest\n",
        "health_ins_df_vif = health_ins_df_processed[['bmi', 'children_0', 'children_2', \n",
        "                                             'children_3', 'children_4', 'children_5', 'smoker_yes', \n",
        "                                             'region_northeast', 'region_southeast', \n",
        "                                             'region_southwest', 'age_group_mid-age','age_group_old', \n",
        "                                             'age_group_young']]\n",
        "vif_data = pd.DataFrame() \n",
        "vif_data[\"attribute\"] = health_ins_df_vif.columns \n",
        "vif_data[\"VIF\"] = [variance_inflation_factor(health_ins_df_vif.values, i) \n",
        "                          for i in range(len(health_ins_df_vif.columns))] \n",
        "  \n",
        "print(vif_data)"
      ],
      "execution_count": 45,
      "outputs": [
        {
          "output_type": "stream",
          "text": [
            "            attribute        VIF\n",
            "0                 bmi   1.097820\n",
            "1          children_0   1.623280\n",
            "2          children_2   1.436286\n",
            "3          children_3   1.323996\n",
            "4          children_4   1.060698\n",
            "5          children_5   1.049756\n",
            "6          smoker_yes   1.012572\n",
            "7    region_northeast   1.515483\n",
            "8    region_southeast   1.643003\n",
            "9    region_southwest   1.530183\n",
            "10  age_group_mid-age  13.447775\n",
            "11      age_group_old   4.809862\n",
            "12    age_group_young  17.769851\n"
          ],
          "name": "stdout"
        }
      ]
    },
    {
      "cell_type": "markdown",
      "metadata": {
        "id": "lsqaoYY8kj0f"
      },
      "source": [
        "#### Variable: Age_Group_Mid-Age"
      ]
    },
    {
      "cell_type": "code",
      "metadata": {
        "colab": {
          "base_uri": "https://localhost:8080/"
        },
        "id": "xfprl3QFjMkP",
        "outputId": "c157e511-b6cc-4f69-ea88-98d610e9a8c6"
      },
      "source": [
        "#Dropping age_group_mid-age\n",
        "X = health_ins_df_processed[['bmi', 'children_0','children_2', 'children_3', 'children_4', \n",
        "                             'children_5', 'smoker_yes', 'region_northeast',\n",
        "                             'region_southeast', 'region_southwest', 'age_group_old', \n",
        "                             'age_group_young']]\n",
        "y = health_ins_df_processed['charges']\n",
        "\n",
        "# Split the data into training and test sets - 70% train and 30% test splits\n",
        "X_train, X_test, y_train, y_test = train_test_split(X, y, test_size=0.30)\n",
        "\n",
        "X = sm.add_constant(X) # adding a constant\n",
        "\n",
        "# Fit the Model\n",
        "model = sm.OLS(y, X).fit()\n",
        "\n",
        "# Predictions\n",
        "predictions = model.predict(X) \n",
        "\n",
        "# Check Model Summary\n",
        "print_model = model.summary()\n",
        "print(print_model)"
      ],
      "execution_count": 46,
      "outputs": [
        {
          "output_type": "stream",
          "text": [
            "                            OLS Regression Results                            \n",
            "==============================================================================\n",
            "Dep. Variable:                charges   R-squared:                       0.745\n",
            "Model:                            OLS   Adj. R-squared:                  0.742\n",
            "Method:                 Least Squares   F-statistic:                     319.8\n",
            "Date:                Mon, 17 May 2021   Prob (F-statistic):               0.00\n",
            "Time:                        15:30:25   Log-Likelihood:                -13461.\n",
            "No. Observations:                1329   AIC:                         2.695e+04\n",
            "Df Residuals:                    1316   BIC:                         2.701e+04\n",
            "Df Model:                          12                                         \n",
            "Covariance Type:            nonrobust                                         \n",
            "====================================================================================\n",
            "                       coef    std err          t      P>|t|      [0.025      0.975]\n",
            "------------------------------------------------------------------------------------\n",
            "const              432.0653   1005.835      0.430      0.668   -1541.150    2405.281\n",
            "bmi                346.4177     29.578     11.712      0.000     288.392     404.444\n",
            "children_0       -1054.4117    429.964     -2.452      0.014   -1897.901    -210.923\n",
            "children_2        1245.7003    522.164      2.386      0.017     221.335    2270.066\n",
            "children_3         692.7750    595.549      1.163      0.245    -475.554    1861.104\n",
            "children_4        2898.4749   1266.411      2.289      0.022     414.070    5382.880\n",
            "children_5         760.0426   1480.793      0.513      0.608   -2144.930    3665.015\n",
            "smoker_yes        2.347e+04    417.228     56.241      0.000    2.26e+04    2.43e+04\n",
            "region_northeast   428.0747    479.472      0.893      0.372    -512.537    1368.687\n",
            "region_southeast  -734.3219    483.103     -1.520      0.129   -1682.058     213.414\n",
            "region_southwest  -618.5474    481.287     -1.285      0.199   -1562.720     325.625\n",
            "age_group_old     4883.8806    595.087      8.207      0.000    3716.458    6051.303\n",
            "age_group_young  -5275.5956    361.521    -14.593      0.000   -5984.817   -4566.375\n",
            "==============================================================================\n",
            "Omnibus:                      266.624   Durbin-Watson:                   2.084\n",
            "Prob(Omnibus):                  0.000   Jarque-Bera (JB):              582.025\n",
            "Skew:                           1.125   Prob(JB):                    4.12e-127\n",
            "Kurtosis:                       5.334   Cond. No.                         281.\n",
            "==============================================================================\n",
            "\n",
            "Warnings:\n",
            "[1] Standard Errors assume that the covariance matrix of the errors is correctly specified.\n"
          ],
          "name": "stdout"
        }
      ]
    },
    {
      "cell_type": "code",
      "metadata": {
        "colab": {
          "base_uri": "https://localhost:8080/"
        },
        "id": "mC0XIT4ujz2f",
        "outputId": "cf11c051-52ed-4b51-f612-e46a3b07591c"
      },
      "source": [
        "# VIF - after dropping age_group_mid-age\n",
        "health_ins_df_vif = health_ins_df_processed[['bmi', 'children_0', 'children_2', \n",
        "                                             'children_3', 'children_4', 'children_5', 'smoker_yes', \n",
        "                                             'region_northeast', 'region_southeast', \n",
        "                                             'region_southwest', 'age_group_old', \n",
        "                                             'age_group_young']]\n",
        "vif_data = pd.DataFrame() \n",
        "vif_data[\"attribute\"] = health_ins_df_vif.columns \n",
        "vif_data[\"VIF\"] = [variance_inflation_factor(health_ins_df_vif.values, i) \n",
        "                          for i in range(len(health_ins_df_vif.columns))] \n",
        "  \n",
        "print(vif_data)"
      ],
      "execution_count": 47,
      "outputs": [
        {
          "output_type": "stream",
          "text": [
            "           attribute       VIF\n",
            "0                bmi  7.499317\n",
            "1         children_0  2.676311\n",
            "2         children_2  1.675961\n",
            "3         children_3  1.452813\n",
            "4         children_4  1.076977\n",
            "5         children_5  1.057367\n",
            "6         smoker_yes  1.264397\n",
            "7   region_northeast  1.883785\n",
            "8   region_southeast  2.244260\n",
            "9   region_southwest  1.965415\n",
            "10     age_group_old  1.320875\n",
            "11   age_group_young  2.276242\n"
          ],
          "name": "stdout"
        }
      ]
    },
    {
      "cell_type": "code",
      "metadata": {
        "colab": {
          "base_uri": "https://localhost:8080/",
          "height": 441
        },
        "id": "qru8QfHXj54F",
        "outputId": "133c0ec2-7b7c-4b94-ef1d-dc92a8806488"
      },
      "source": [
        "health_ins_df_vif.corr(method ='pearson')"
      ],
      "execution_count": 48,
      "outputs": [
        {
          "output_type": "execute_result",
          "data": {
            "text/html": [
              "<div>\n",
              "<style scoped>\n",
              "    .dataframe tbody tr th:only-of-type {\n",
              "        vertical-align: middle;\n",
              "    }\n",
              "\n",
              "    .dataframe tbody tr th {\n",
              "        vertical-align: top;\n",
              "    }\n",
              "\n",
              "    .dataframe thead th {\n",
              "        text-align: right;\n",
              "    }\n",
              "</style>\n",
              "<table border=\"1\" class=\"dataframe\">\n",
              "  <thead>\n",
              "    <tr style=\"text-align: right;\">\n",
              "      <th></th>\n",
              "      <th>bmi</th>\n",
              "      <th>children_0</th>\n",
              "      <th>children_2</th>\n",
              "      <th>children_3</th>\n",
              "      <th>children_4</th>\n",
              "      <th>children_5</th>\n",
              "      <th>smoker_yes</th>\n",
              "      <th>region_northeast</th>\n",
              "      <th>region_southeast</th>\n",
              "      <th>region_southwest</th>\n",
              "      <th>age_group_old</th>\n",
              "      <th>age_group_young</th>\n",
              "    </tr>\n",
              "  </thead>\n",
              "  <tbody>\n",
              "    <tr>\n",
              "      <th>bmi</th>\n",
              "      <td>1.000000</td>\n",
              "      <td>-0.012986</td>\n",
              "      <td>0.023607</td>\n",
              "      <td>0.009091</td>\n",
              "      <td>0.019978</td>\n",
              "      <td>-0.018461</td>\n",
              "      <td>-0.002871</td>\n",
              "      <td>-0.136193</td>\n",
              "      <td>0.255863</td>\n",
              "      <td>0.000651</td>\n",
              "      <td>0.070413</td>\n",
              "      <td>-0.102850</td>\n",
              "    </tr>\n",
              "    <tr>\n",
              "      <th>children_0</th>\n",
              "      <td>-0.012986</td>\n",
              "      <td>1.000000</td>\n",
              "      <td>-0.405377</td>\n",
              "      <td>-0.317665</td>\n",
              "      <td>-0.120175</td>\n",
              "      <td>-0.101699</td>\n",
              "      <td>-0.009183</td>\n",
              "      <td>0.029145</td>\n",
              "      <td>0.002113</td>\n",
              "      <td>-0.004267</td>\n",
              "      <td>0.150396</td>\n",
              "      <td>0.025982</td>\n",
              "    </tr>\n",
              "    <tr>\n",
              "      <th>children_2</th>\n",
              "      <td>0.023607</td>\n",
              "      <td>-0.405377</td>\n",
              "      <td>1.000000</td>\n",
              "      <td>-0.170947</td>\n",
              "      <td>-0.064671</td>\n",
              "      <td>-0.054728</td>\n",
              "      <td>0.026637</td>\n",
              "      <td>-0.035887</td>\n",
              "      <td>0.009155</td>\n",
              "      <td>-0.009244</td>\n",
              "      <td>-0.082676</td>\n",
              "      <td>-0.011082</td>\n",
              "    </tr>\n",
              "    <tr>\n",
              "      <th>children_3</th>\n",
              "      <td>0.009091</td>\n",
              "      <td>-0.317665</td>\n",
              "      <td>-0.170947</td>\n",
              "      <td>1.000000</td>\n",
              "      <td>-0.050678</td>\n",
              "      <td>-0.042887</td>\n",
              "      <td>0.040420</td>\n",
              "      <td>0.004580</td>\n",
              "      <td>-0.037731</td>\n",
              "      <td>-0.006925</td>\n",
              "      <td>0.004414</td>\n",
              "      <td>-0.029592</td>\n",
              "    </tr>\n",
              "    <tr>\n",
              "      <th>children_4</th>\n",
              "      <td>0.019978</td>\n",
              "      <td>-0.120175</td>\n",
              "      <td>-0.064671</td>\n",
              "      <td>-0.050678</td>\n",
              "      <td>1.000000</td>\n",
              "      <td>-0.016224</td>\n",
              "      <td>-0.028837</td>\n",
              "      <td>0.011931</td>\n",
              "      <td>-0.021437</td>\n",
              "      <td>0.011676</td>\n",
              "      <td>-0.029224</td>\n",
              "      <td>0.020945</td>\n",
              "    </tr>\n",
              "    <tr>\n",
              "      <th>children_5</th>\n",
              "      <td>-0.018461</td>\n",
              "      <td>-0.101699</td>\n",
              "      <td>-0.054728</td>\n",
              "      <td>-0.042887</td>\n",
              "      <td>-0.016224</td>\n",
              "      <td>1.000000</td>\n",
              "      <td>-0.043146</td>\n",
              "      <td>-0.020864</td>\n",
              "      <td>0.017107</td>\n",
              "      <td>0.054758</td>\n",
              "      <td>-0.040047</td>\n",
              "      <td>0.033367</td>\n",
              "    </tr>\n",
              "    <tr>\n",
              "      <th>smoker_yes</th>\n",
              "      <td>-0.002871</td>\n",
              "      <td>-0.009183</td>\n",
              "      <td>0.026637</td>\n",
              "      <td>0.040420</td>\n",
              "      <td>-0.028837</td>\n",
              "      <td>-0.043146</td>\n",
              "      <td>1.000000</td>\n",
              "      <td>0.004947</td>\n",
              "      <td>0.068270</td>\n",
              "      <td>-0.039440</td>\n",
              "      <td>0.016209</td>\n",
              "      <td>0.018222</td>\n",
              "    </tr>\n",
              "    <tr>\n",
              "      <th>region_northeast</th>\n",
              "      <td>-0.136193</td>\n",
              "      <td>0.029145</td>\n",
              "      <td>-0.035887</td>\n",
              "      <td>0.004580</td>\n",
              "      <td>0.011931</td>\n",
              "      <td>-0.020864</td>\n",
              "      <td>0.004947</td>\n",
              "      <td>1.000000</td>\n",
              "      <td>-0.343402</td>\n",
              "      <td>-0.321730</td>\n",
              "      <td>-0.004486</td>\n",
              "      <td>-0.001401</td>\n",
              "    </tr>\n",
              "    <tr>\n",
              "      <th>region_southeast</th>\n",
              "      <td>0.255863</td>\n",
              "      <td>0.002113</td>\n",
              "      <td>0.009155</td>\n",
              "      <td>-0.037731</td>\n",
              "      <td>-0.021437</td>\n",
              "      <td>0.017107</td>\n",
              "      <td>0.068270</td>\n",
              "      <td>-0.343402</td>\n",
              "      <td>1.000000</td>\n",
              "      <td>-0.344105</td>\n",
              "      <td>0.009216</td>\n",
              "      <td>0.006016</td>\n",
              "    </tr>\n",
              "    <tr>\n",
              "      <th>region_southwest</th>\n",
              "      <td>0.000651</td>\n",
              "      <td>-0.004267</td>\n",
              "      <td>-0.009244</td>\n",
              "      <td>-0.006925</td>\n",
              "      <td>0.011676</td>\n",
              "      <td>0.054758</td>\n",
              "      <td>-0.039440</td>\n",
              "      <td>-0.321730</td>\n",
              "      <td>-0.344105</td>\n",
              "      <td>1.000000</td>\n",
              "      <td>0.000646</td>\n",
              "      <td>-0.010258</td>\n",
              "    </tr>\n",
              "    <tr>\n",
              "      <th>age_group_old</th>\n",
              "      <td>0.070413</td>\n",
              "      <td>0.150396</td>\n",
              "      <td>-0.082676</td>\n",
              "      <td>0.004414</td>\n",
              "      <td>-0.029224</td>\n",
              "      <td>-0.040047</td>\n",
              "      <td>0.016209</td>\n",
              "      <td>-0.004486</td>\n",
              "      <td>0.009216</td>\n",
              "      <td>0.000646</td>\n",
              "      <td>1.000000</td>\n",
              "      <td>-0.358915</td>\n",
              "    </tr>\n",
              "    <tr>\n",
              "      <th>age_group_young</th>\n",
              "      <td>-0.102850</td>\n",
              "      <td>0.025982</td>\n",
              "      <td>-0.011082</td>\n",
              "      <td>-0.029592</td>\n",
              "      <td>0.020945</td>\n",
              "      <td>0.033367</td>\n",
              "      <td>0.018222</td>\n",
              "      <td>-0.001401</td>\n",
              "      <td>0.006016</td>\n",
              "      <td>-0.010258</td>\n",
              "      <td>-0.358915</td>\n",
              "      <td>1.000000</td>\n",
              "    </tr>\n",
              "  </tbody>\n",
              "</table>\n",
              "</div>"
            ],
            "text/plain": [
              "                       bmi  children_0  ...  age_group_old  age_group_young\n",
              "bmi               1.000000   -0.012986  ...       0.070413        -0.102850\n",
              "children_0       -0.012986    1.000000  ...       0.150396         0.025982\n",
              "children_2        0.023607   -0.405377  ...      -0.082676        -0.011082\n",
              "children_3        0.009091   -0.317665  ...       0.004414        -0.029592\n",
              "children_4        0.019978   -0.120175  ...      -0.029224         0.020945\n",
              "children_5       -0.018461   -0.101699  ...      -0.040047         0.033367\n",
              "smoker_yes       -0.002871   -0.009183  ...       0.016209         0.018222\n",
              "region_northeast -0.136193    0.029145  ...      -0.004486        -0.001401\n",
              "region_southeast  0.255863    0.002113  ...       0.009216         0.006016\n",
              "region_southwest  0.000651   -0.004267  ...       0.000646        -0.010258\n",
              "age_group_old     0.070413    0.150396  ...       1.000000        -0.358915\n",
              "age_group_young  -0.102850    0.025982  ...      -0.358915         1.000000\n",
              "\n",
              "[12 rows x 12 columns]"
            ]
          },
          "metadata": {
            "tags": []
          },
          "execution_count": 48
        }
      ]
    },
    {
      "cell_type": "markdown",
      "metadata": {
        "id": "aCG2h1MMkuc3"
      },
      "source": [
        "#### Variable: Children_5"
      ]
    },
    {
      "cell_type": "code",
      "metadata": {
        "colab": {
          "base_uri": "https://localhost:8080/"
        },
        "id": "GXNV11wAkGgg",
        "outputId": "b1d9178c-308f-439c-b68a-28dd9e4f5c86"
      },
      "source": [
        "#Dropping children_5\n",
        "X = health_ins_df_processed[['bmi', 'children_0','children_2', 'children_3', 'children_4', \n",
        "                              'smoker_yes', 'region_northeast',\n",
        "                             'region_southeast', 'region_southwest', 'age_group_old', \n",
        "                             'age_group_young']]\n",
        "y = health_ins_df_processed['charges']\n",
        "\n",
        "# Split the data into training and test sets - 70% train and 30% test splits\n",
        "X_train, X_test, y_train, y_test = train_test_split(X, y, test_size=0.30)\n",
        "\n",
        "X = sm.add_constant(X) # adding a constant\n",
        "\n",
        "# Fit the Model\n",
        "model = sm.OLS(y, X).fit()\n",
        "\n",
        "# Predictions\n",
        "predictions = model.predict(X) \n",
        "\n",
        "# Check Model Summary\n",
        "print_model = model.summary()\n",
        "print(print_model)"
      ],
      "execution_count": 49,
      "outputs": [
        {
          "output_type": "stream",
          "text": [
            "                            OLS Regression Results                            \n",
            "==============================================================================\n",
            "Dep. Variable:                charges   R-squared:                       0.745\n",
            "Model:                            OLS   Adj. R-squared:                  0.742\n",
            "Method:                 Least Squares   F-statistic:                     349.0\n",
            "Date:                Mon, 17 May 2021   Prob (F-statistic):               0.00\n",
            "Time:                        15:30:38   Log-Likelihood:                -13461.\n",
            "No. Observations:                1329   AIC:                         2.695e+04\n",
            "Df Residuals:                    1317   BIC:                         2.701e+04\n",
            "Df Model:                          11                                         \n",
            "Covariance Type:            nonrobust                                         \n",
            "====================================================================================\n",
            "                       coef    std err          t      P>|t|      [0.025      0.975]\n",
            "------------------------------------------------------------------------------------\n",
            "const              473.3410   1002.335      0.472      0.637   -1493.007    2439.689\n",
            "bmi                346.0887     29.563     11.707      0.000     288.093     404.085\n",
            "children_0       -1094.2298    422.789     -2.588      0.010   -1923.643    -264.817\n",
            "children_2        1206.3161    516.351      2.336      0.020     193.355    2219.277\n",
            "children_3         654.2344    590.631      1.108      0.268    -504.446    1812.914\n",
            "children_4        2857.7278   1263.567      2.262      0.024     378.904    5336.552\n",
            "smoker_yes        2.346e+04    416.799     56.279      0.000    2.26e+04    2.43e+04\n",
            "region_northeast   432.4179    479.263      0.902      0.367    -507.784    1372.620\n",
            "region_southeast  -723.5895    482.515     -1.500      0.134   -1670.172     222.993\n",
            "region_southwest  -602.9456    480.191     -1.256      0.209   -1544.969     339.078\n",
            "age_group_old     4881.2283    594.898      8.205      0.000    3714.177    6048.279\n",
            "age_group_young  -5270.3174    361.274    -14.588      0.000   -5979.053   -4561.582\n",
            "==============================================================================\n",
            "Omnibus:                      265.532   Durbin-Watson:                   2.084\n",
            "Prob(Omnibus):                  0.000   Jarque-Bera (JB):              577.781\n",
            "Skew:                           1.122   Prob(JB):                    3.44e-126\n",
            "Kurtosis:                       5.323   Cond. No.                         239.\n",
            "==============================================================================\n",
            "\n",
            "Warnings:\n",
            "[1] Standard Errors assume that the covariance matrix of the errors is correctly specified.\n"
          ],
          "name": "stdout"
        }
      ]
    },
    {
      "cell_type": "code",
      "metadata": {
        "colab": {
          "base_uri": "https://localhost:8080/"
        },
        "id": "1TjU-ICAk32z",
        "outputId": "7ae4a12f-5c1e-43da-db72-0939b275e584"
      },
      "source": [
        "# VIF - after dropping age_group_mid-age\n",
        "health_ins_df_vif = health_ins_df_processed[['bmi', 'children_0', 'children_2', \n",
        "                                             'children_3', 'children_4',  'smoker_yes', \n",
        "                                             'region_northeast', 'region_southeast', \n",
        "                                             'region_southwest', 'age_group_old', \n",
        "                                             'age_group_young']]\n",
        "vif_data = pd.DataFrame() \n",
        "vif_data[\"attribute\"] = health_ins_df_vif.columns \n",
        "vif_data[\"VIF\"] = [variance_inflation_factor(health_ins_df_vif.values, i) \n",
        "                          for i in range(len(health_ins_df_vif.columns))] \n",
        "  \n",
        "print(vif_data)"
      ],
      "execution_count": 50,
      "outputs": [
        {
          "output_type": "stream",
          "text": [
            "           attribute       VIF\n",
            "0                bmi  7.429867\n",
            "1         children_0  2.602154\n",
            "2         children_2  1.645952\n",
            "3         children_3  1.433957\n",
            "4         children_4  1.073344\n",
            "5         smoker_yes  1.263044\n",
            "6   region_northeast  1.881015\n",
            "7   region_southeast  2.239522\n",
            "8   region_southwest  1.953433\n",
            "9      age_group_old  1.320862\n",
            "10   age_group_young  2.270042\n"
          ],
          "name": "stdout"
        }
      ]
    },
    {
      "cell_type": "markdown",
      "metadata": {
        "id": "cJTVRH2elDv6"
      },
      "source": [
        "#### Variable: Region_NorthEast"
      ]
    },
    {
      "cell_type": "code",
      "metadata": {
        "colab": {
          "base_uri": "https://localhost:8080/"
        },
        "id": "PtNV0FvVlGw6",
        "outputId": "ada1f434-49b3-45f3-c960-61de6a27dea8"
      },
      "source": [
        "#Dropping region_northeast\n",
        "X = health_ins_df_processed[['bmi', 'children_0','children_2', 'children_3', 'children_4', \n",
        "                              'smoker_yes', \n",
        "                             'region_southeast', 'region_southwest', 'age_group_old', \n",
        "                             'age_group_young']]\n",
        "y = health_ins_df_processed['charges']\n",
        "\n",
        "# Split the data into training and test sets - 70% train and 30% test splits\n",
        "X_train, X_test, y_train, y_test = train_test_split(X, y, test_size=0.30)\n",
        "\n",
        "X = sm.add_constant(X) # adding a constant\n",
        "\n",
        "# Fit the Model\n",
        "model = sm.OLS(y, X).fit()\n",
        "\n",
        "# Predictions\n",
        "predictions = model.predict(X) \n",
        "\n",
        "# Check Model Summary\n",
        "print_model = model.summary()\n",
        "print(print_model)"
      ],
      "execution_count": 51,
      "outputs": [
        {
          "output_type": "stream",
          "text": [
            "                            OLS Regression Results                            \n",
            "==============================================================================\n",
            "Dep. Variable:                charges   R-squared:                       0.744\n",
            "Model:                            OLS   Adj. R-squared:                  0.742\n",
            "Method:                 Least Squares   F-statistic:                     383.9\n",
            "Date:                Mon, 17 May 2021   Prob (F-statistic):               0.00\n",
            "Time:                        15:30:45   Log-Likelihood:                -13461.\n",
            "No. Observations:                1329   AIC:                         2.694e+04\n",
            "Df Residuals:                    1318   BIC:                         2.700e+04\n",
            "Df Model:                          10                                         \n",
            "Covariance Type:            nonrobust                                         \n",
            "====================================================================================\n",
            "                       coef    std err          t      P>|t|      [0.025      0.975]\n",
            "------------------------------------------------------------------------------------\n",
            "const              695.1766    971.644      0.715      0.474   -1210.960    2601.314\n",
            "bmi                345.9961     29.561     11.705      0.000     288.005     403.988\n",
            "children_0       -1091.4859    422.748     -2.582      0.010   -1920.818    -262.153\n",
            "children_2        1188.1067    515.920      2.303      0.021     175.992    2200.221\n",
            "children_3         640.8280    590.402      1.085      0.278    -517.403    1799.059\n",
            "children_4        2864.0784   1263.458      2.267      0.024     385.470    5342.687\n",
            "smoker_yes        2.347e+04    416.606     56.331      0.000    2.27e+04    2.43e+04\n",
            "region_southeast  -939.6300    418.882     -2.243      0.025   -1761.379    -117.881\n",
            "region_southwest  -818.5365    416.490     -1.965      0.050   -1635.592      -1.481\n",
            "age_group_old     4877.3825    594.841      8.199      0.000    3710.445    6044.320\n",
            "age_group_young  -5273.2173    361.234    -14.598      0.000   -5981.874   -4564.561\n",
            "==============================================================================\n",
            "Omnibus:                      264.454   Durbin-Watson:                   2.088\n",
            "Prob(Omnibus):                  0.000   Jarque-Bera (JB):              572.696\n",
            "Skew:                           1.120   Prob(JB):                    4.37e-125\n",
            "Kurtosis:                       5.308   Cond. No.                         239.\n",
            "==============================================================================\n",
            "\n",
            "Warnings:\n",
            "[1] Standard Errors assume that the covariance matrix of the errors is correctly specified.\n"
          ],
          "name": "stdout"
        }
      ]
    },
    {
      "cell_type": "code",
      "metadata": {
        "colab": {
          "base_uri": "https://localhost:8080/"
        },
        "id": "wj5G6lQqk8_T",
        "outputId": "e0dc46e4-b0e2-42b2-e7be-cbce7d539d7b"
      },
      "source": [
        "# VIF - after dropping region_northeast\n",
        "health_ins_df_vif = health_ins_df_processed[['bmi', 'children_0', 'children_2', \n",
        "                                             'children_3', 'children_4',  'smoker_yes', \n",
        "                                              'region_southeast', \n",
        "                                             'region_southwest', 'age_group_old', \n",
        "                                             'age_group_young']]\n",
        "vif_data = pd.DataFrame() \n",
        "vif_data[\"attribute\"] = health_ins_df_vif.columns \n",
        "vif_data[\"VIF\"] = [variance_inflation_factor(health_ins_df_vif.values, i) \n",
        "                          for i in range(len(health_ins_df_vif.columns))] \n",
        "  \n",
        "print(vif_data)"
      ],
      "execution_count": 52,
      "outputs": [
        {
          "output_type": "stream",
          "text": [
            "          attribute       VIF\n",
            "0               bmi  6.011912\n",
            "1        children_0  2.589894\n",
            "2        children_2  1.645803\n",
            "3        children_3  1.433506\n",
            "4        children_4  1.072911\n",
            "5        smoker_yes  1.260157\n",
            "6  region_southeast  1.672064\n",
            "7  region_southwest  1.510284\n",
            "8     age_group_old  1.320731\n",
            "9   age_group_young  2.261170\n"
          ],
          "name": "stdout"
        }
      ]
    },
    {
      "cell_type": "markdown",
      "metadata": {
        "id": "NTNnvbbIlgvY"
      },
      "source": [
        "#### Variable: Children_3"
      ]
    },
    {
      "cell_type": "code",
      "metadata": {
        "colab": {
          "base_uri": "https://localhost:8080/"
        },
        "id": "8HjkLQeklhQc",
        "outputId": "f4bf7c54-46fb-4b7e-ce9f-e9be45e7bc9f"
      },
      "source": [
        "#Dropping children_3\n",
        "X = health_ins_df_processed[['bmi', 'children_0','children_2',  'children_4', \n",
        "                              'smoker_yes', \n",
        "                             'region_southeast', 'region_southwest', 'age_group_old', \n",
        "                             'age_group_young']]\n",
        "y = health_ins_df_processed['charges']\n",
        "\n",
        "# Split the data into training and test sets - 70% train and 30% test splits\n",
        "X_train, X_test, y_train, y_test = train_test_split(X, y, test_size=0.30)\n",
        "\n",
        "X = sm.add_constant(X) # adding a constant\n",
        "\n",
        "# Fit the Model\n",
        "model = sm.OLS(y, X).fit()\n",
        "\n",
        "# Predictions\n",
        "predictions = model.predict(X) \n",
        "\n",
        "# Check Model Summary\n",
        "print_model = model.summary()\n",
        "print(print_model)"
      ],
      "execution_count": 53,
      "outputs": [
        {
          "output_type": "stream",
          "text": [
            "                            OLS Regression Results                            \n",
            "==============================================================================\n",
            "Dep. Variable:                charges   R-squared:                       0.744\n",
            "Model:                            OLS   Adj. R-squared:                  0.742\n",
            "Method:                 Least Squares   F-statistic:                     426.4\n",
            "Date:                Mon, 17 May 2021   Prob (F-statistic):               0.00\n",
            "Time:                        15:31:02   Log-Likelihood:                -13462.\n",
            "No. Observations:                1329   AIC:                         2.694e+04\n",
            "Df Residuals:                    1319   BIC:                         2.700e+04\n",
            "Df Model:                           9                                         \n",
            "Covariance Type:            nonrobust                                         \n",
            "====================================================================================\n",
            "                       coef    std err          t      P>|t|      [0.025      0.975]\n",
            "------------------------------------------------------------------------------------\n",
            "const              875.2527    957.439      0.914      0.361   -1003.018    2753.523\n",
            "bmi                346.8929     29.551     11.739      0.000     288.920     404.866\n",
            "children_0       -1297.0101    377.996     -3.431      0.001   -2038.549    -555.471\n",
            "children_2         984.6578    480.699      2.048      0.041      41.640    1927.675\n",
            "children_4        2661.5077   1249.683      2.130      0.033     209.925    5113.090\n",
            "smoker_yes        2.349e+04    416.108     56.453      0.000    2.27e+04    2.43e+04\n",
            "region_southeast  -965.6892    418.222     -2.309      0.021   -1786.142    -145.237\n",
            "region_southwest  -832.2599    416.326     -1.999      0.046   -1648.994     -15.526\n",
            "age_group_old     4904.9017    594.340      8.253      0.000    3738.947    6070.857\n",
            "age_group_young  -5273.9278    361.258    -14.599      0.000   -5982.631   -4565.225\n",
            "==============================================================================\n",
            "Omnibus:                      261.490   Durbin-Watson:                   2.085\n",
            "Prob(Omnibus):                  0.000   Jarque-Bera (JB):              561.828\n",
            "Skew:                           1.111   Prob(JB):                    1.00e-122\n",
            "Kurtosis:                       5.281   Cond. No.                         234.\n",
            "==============================================================================\n",
            "\n",
            "Warnings:\n",
            "[1] Standard Errors assume that the covariance matrix of the errors is correctly specified.\n"
          ],
          "name": "stdout"
        }
      ]
    },
    {
      "cell_type": "code",
      "metadata": {
        "colab": {
          "base_uri": "https://localhost:8080/"
        },
        "id": "iRBQ2rSrlQH5",
        "outputId": "27bff77f-9437-47ce-8534-c25fb8e0fa23"
      },
      "source": [
        "# VIF - after dropping children_3\n",
        "health_ins_df_vif = health_ins_df_processed[['bmi', 'children_0', 'children_2', \n",
        "                                              'children_4', 'smoker_yes', \n",
        "                                             'region_northeast', 'region_southeast', \n",
        "                                             'region_southwest', 'age_group_old', \n",
        "                                             'age_group_young']]\n",
        "vif_data = pd.DataFrame() \n",
        "vif_data[\"attribute\"] = health_ins_df_vif.columns \n",
        "vif_data[\"VIF\"] = [variance_inflation_factor(health_ins_df_vif.values, i) \n",
        "                          for i in range(len(health_ins_df_vif.columns))] \n",
        "  \n",
        "print(vif_data)"
      ],
      "execution_count": 54,
      "outputs": [
        {
          "output_type": "stream",
          "text": [
            "          attribute       VIF\n",
            "0               bmi  6.451307\n",
            "1        children_0  2.131424\n",
            "2        children_2  1.453607\n",
            "3        children_4  1.052270\n",
            "4        smoker_yes  1.257745\n",
            "5  region_northeast  1.880422\n",
            "6  region_southeast  2.232212\n",
            "7  region_southwest  1.953274\n",
            "8     age_group_old  1.316850\n",
            "9   age_group_young  2.264926\n"
          ],
          "name": "stdout"
        }
      ]
    },
    {
      "cell_type": "markdown",
      "metadata": {
        "id": "AJuP_kzDl2T2"
      },
      "source": [
        "#### Variable Children_2"
      ]
    },
    {
      "cell_type": "code",
      "metadata": {
        "colab": {
          "base_uri": "https://localhost:8080/"
        },
        "id": "tWAyxS5jl1k_",
        "outputId": "343fc38e-40bb-4eb8-c965-f18713bd7718"
      },
      "source": [
        "#Dropping children_2\n",
        "X = health_ins_df_processed[['bmi', 'children_0',  'children_4', \n",
        "                              'smoker_yes', \n",
        "                             'region_southeast', 'region_southwest', 'age_group_old', \n",
        "                             'age_group_young']]\n",
        "y = health_ins_df_processed['charges']\n",
        "\n",
        "# Split the data into training and test sets - 70% train and 30% test splits\n",
        "X_train, X_test, y_train, y_test = train_test_split(X, y, test_size=0.30)\n",
        "\n",
        "X = sm.add_constant(X) # adding a constant\n",
        "\n",
        "# Fit the Model\n",
        "model = sm.OLS(y, X).fit()\n",
        "\n",
        "# Predictions\n",
        "predictions = model.predict(X) \n",
        "\n",
        "# Check Model Summary\n",
        "print_model = model.summary()\n",
        "print(print_model)"
      ],
      "execution_count": 55,
      "outputs": [
        {
          "output_type": "stream",
          "text": [
            "                            OLS Regression Results                            \n",
            "==============================================================================\n",
            "Dep. Variable:                charges   R-squared:                       0.743\n",
            "Model:                            OLS   Adj. R-squared:                  0.742\n",
            "Method:                 Least Squares   F-statistic:                     478.0\n",
            "Date:                Mon, 17 May 2021   Prob (F-statistic):               0.00\n",
            "Time:                        15:31:11   Log-Likelihood:                -13464.\n",
            "No. Observations:                1329   AIC:                         2.695e+04\n",
            "Df Residuals:                    1320   BIC:                         2.699e+04\n",
            "Df Model:                           8                                         \n",
            "Covariance Type:            nonrobust                                         \n",
            "====================================================================================\n",
            "                       coef    std err          t      P>|t|      [0.025      0.975]\n",
            "------------------------------------------------------------------------------------\n",
            "const             1154.2179    948.851      1.216      0.224    -707.202    3015.638\n",
            "bmi                348.3353     29.579     11.777      0.000     290.309     406.362\n",
            "children_0       -1613.0791    345.486     -4.669      0.000   -2290.841    -935.318\n",
            "children_4        2341.9891   1241.409      1.887      0.059     -93.362    4777.340\n",
            "smoker_yes        2.351e+04    416.512     56.443      0.000    2.27e+04    2.43e+04\n",
            "region_southeast  -967.9747    418.726     -2.312      0.021   -1789.416    -146.533\n",
            "region_southwest  -840.9346    416.808     -2.018      0.044   -1658.614     -23.256\n",
            "age_group_old     4870.6794    594.824      8.188      0.000    3703.776    6037.583\n",
            "age_group_young  -5278.4524    361.688    -14.594      0.000   -5987.999   -4568.906\n",
            "==============================================================================\n",
            "Omnibus:                      263.813   Durbin-Watson:                   2.086\n",
            "Prob(Omnibus):                  0.000   Jarque-Bera (JB):              566.578\n",
            "Skew:                           1.121   Prob(JB):                    9.31e-124\n",
            "Kurtosis:                       5.282   Cond. No.                         231.\n",
            "==============================================================================\n",
            "\n",
            "Warnings:\n",
            "[1] Standard Errors assume that the covariance matrix of the errors is correctly specified.\n"
          ],
          "name": "stdout"
        }
      ]
    },
    {
      "cell_type": "code",
      "metadata": {
        "colab": {
          "base_uri": "https://localhost:8080/"
        },
        "id": "dQWYCSN3lvRH",
        "outputId": "87c39554-3471-44f6-81d2-83164b6762e8"
      },
      "source": [
        "# VIF - after dropping children_2\n",
        "health_ins_df_vif = health_ins_df_processed[['bmi', 'children_0',  \n",
        "                                              'children_4', 'smoker_yes', \n",
        "                                             'region_northeast', 'region_southeast', \n",
        "                                             'region_southwest', 'age_group_old', \n",
        "                                             'age_group_young']]\n",
        "vif_data = pd.DataFrame() \n",
        "vif_data[\"attribute\"] = health_ins_df_vif.columns \n",
        "vif_data[\"VIF\"] = [variance_inflation_factor(health_ins_df_vif.values, i) \n",
        "                          for i in range(len(health_ins_df_vif.columns))] \n",
        "  \n",
        "print(vif_data)"
      ],
      "execution_count": 56,
      "outputs": [
        {
          "output_type": "stream",
          "text": [
            "          attribute       VIF\n",
            "0               bmi  5.727228\n",
            "1        children_0  1.804549\n",
            "2        children_4  1.036829\n",
            "3        smoker_yes  1.256156\n",
            "4  region_northeast  1.880397\n",
            "5  region_southeast  2.231721\n",
            "6  region_southwest  1.953274\n",
            "7     age_group_old  1.316452\n",
            "8   age_group_young  2.262017\n"
          ],
          "name": "stdout"
        }
      ]
    },
    {
      "cell_type": "markdown",
      "metadata": {
        "id": "0BunQI3imK2W"
      },
      "source": [
        "#### Variable: Children_4"
      ]
    },
    {
      "cell_type": "code",
      "metadata": {
        "colab": {
          "base_uri": "https://localhost:8080/"
        },
        "id": "4J9vykiimLaK",
        "outputId": "9aaf981a-94ef-40e5-fa68-395cc4a9095e"
      },
      "source": [
        "#Dropping children_4\n",
        "X = health_ins_df_processed[['bmi', 'children_0',  \n",
        "                              'smoker_yes', \n",
        "                             'region_southeast', 'region_southwest', 'age_group_old', \n",
        "                             'age_group_young']]\n",
        "y = health_ins_df_processed['charges']\n",
        "\n",
        "# Split the data into training and test sets - 70% train and 30% test splits\n",
        "X_train, X_test, y_train, y_test = train_test_split(X, y, test_size=0.30)\n",
        "\n",
        "X = sm.add_constant(X) # adding a constant\n",
        "\n",
        "# Fit the Model\n",
        "model = sm.OLS(y, X).fit()\n",
        "\n",
        "# Predictions\n",
        "predictions = model.predict(X) \n",
        "\n",
        "# Check Model Summary\n",
        "print_model = model.summary()\n",
        "print(print_model)"
      ],
      "execution_count": 57,
      "outputs": [
        {
          "output_type": "stream",
          "text": [
            "                            OLS Regression Results                            \n",
            "==============================================================================\n",
            "Dep. Variable:                charges   R-squared:                       0.743\n",
            "Model:                            OLS   Adj. R-squared:                  0.741\n",
            "Method:                 Least Squares   F-statistic:                     544.7\n",
            "Date:                Mon, 17 May 2021   Prob (F-statistic):               0.00\n",
            "Time:                        15:31:18   Log-Likelihood:                -13466.\n",
            "No. Observations:                1329   AIC:                         2.695e+04\n",
            "Df Residuals:                    1321   BIC:                         2.699e+04\n",
            "Df Model:                           7                                         \n",
            "Covariance Type:            nonrobust                                         \n",
            "====================================================================================\n",
            "                       coef    std err          t      P>|t|      [0.025      0.975]\n",
            "------------------------------------------------------------------------------------\n",
            "const             1186.4016    949.616      1.249      0.212    -676.518    3049.321\n",
            "bmi                349.8376     29.597     11.820      0.000     291.776     407.899\n",
            "children_0       -1690.3860    343.379     -4.923      0.000   -2364.014   -1016.758\n",
            "smoker_yes        2.349e+04    416.744     56.357      0.000    2.27e+04    2.43e+04\n",
            "region_southeast  -986.6851    419.014     -2.355      0.019   -1808.691    -164.679\n",
            "region_southwest  -839.9508    417.212     -2.013      0.044   -1658.420     -21.481\n",
            "age_group_old     4867.7153    595.398      8.176      0.000    3699.687    6035.744\n",
            "age_group_young  -5261.4987    361.927    -14.537      0.000   -5971.512   -4551.485\n",
            "==============================================================================\n",
            "Omnibus:                      264.754   Durbin-Watson:                   2.089\n",
            "Prob(Omnibus):                  0.000   Jarque-Bera (JB):              567.574\n",
            "Skew:                           1.126   Prob(JB):                    5.66e-124\n",
            "Kurtosis:                       5.276   Cond. No.                         179.\n",
            "==============================================================================\n",
            "\n",
            "Warnings:\n",
            "[1] Standard Errors assume that the covariance matrix of the errors is correctly specified.\n"
          ],
          "name": "stdout"
        }
      ]
    },
    {
      "cell_type": "code",
      "metadata": {
        "colab": {
          "base_uri": "https://localhost:8080/"
        },
        "id": "JhUCOADGmDD6",
        "outputId": "bb6f4ea7-c662-4ef1-be6b-751748606b46"
      },
      "source": [
        "# VIF - after dropping children_4\n",
        "health_ins_df_vif = health_ins_df_processed[['bmi', 'children_0',  \n",
        "                                              'smoker_yes', \n",
        "                                             'region_northeast', 'region_southeast', \n",
        "                                             'region_southwest', 'age_group_old', \n",
        "                                             'age_group_young']]\n",
        "vif_data = pd.DataFrame() \n",
        "vif_data[\"attribute\"] = health_ins_df_vif.columns \n",
        "vif_data[\"VIF\"] = [variance_inflation_factor(health_ins_df_vif.values, i) \n",
        "                          for i in range(len(health_ins_df_vif.columns))] \n",
        "  \n",
        "print(vif_data)"
      ],
      "execution_count": 58,
      "outputs": [
        {
          "output_type": "stream",
          "text": [
            "          attribute       VIF\n",
            "0               bmi  5.679405\n",
            "1        children_0  1.779340\n",
            "2        smoker_yes  1.255185\n",
            "3  region_northeast  1.879824\n",
            "4  region_southeast  2.231310\n",
            "5  region_southwest  1.953065\n",
            "6     age_group_old  1.316449\n",
            "7   age_group_young  2.259964\n"
          ],
          "name": "stdout"
        }
      ]
    },
    {
      "cell_type": "markdown",
      "metadata": {
        "id": "qg3Wz60enSFY"
      },
      "source": [
        "#### Variable: Region_SouthWest"
      ]
    },
    {
      "cell_type": "code",
      "metadata": {
        "colab": {
          "base_uri": "https://localhost:8080/"
        },
        "id": "E-WSgD5knLXr",
        "outputId": "ac564eb6-0b1d-4de1-e536-f7a7bad895f0"
      },
      "source": [
        "#Dropping region_southwest\n",
        "X = health_ins_df_processed[['bmi', 'children_0',  \n",
        "                              'smoker_yes', \n",
        "                             'region_southeast', 'age_group_old', \n",
        "                             'age_group_young']]\n",
        "y = health_ins_df_processed['charges']\n",
        "\n",
        "# Split the data into training and test sets - 70% train and 30% test splits\n",
        "X_train, X_test, y_train, y_test = train_test_split(X, y, test_size=0.30)\n",
        "\n",
        "X = sm.add_constant(X) # adding a constant\n",
        "\n",
        "# Fit the Model\n",
        "model = sm.OLS(y, X).fit()\n",
        "\n",
        "# Predictions\n",
        "predictions = model.predict(X) \n",
        "\n",
        "# Check Model Summary\n",
        "print_model = model.summary()\n",
        "print(print_model)"
      ],
      "execution_count": 59,
      "outputs": [
        {
          "output_type": "stream",
          "text": [
            "                            OLS Regression Results                            \n",
            "==============================================================================\n",
            "Dep. Variable:                charges   R-squared:                       0.742\n",
            "Model:                            OLS   Adj. R-squared:                  0.741\n",
            "Method:                 Least Squares   F-statistic:                     633.4\n",
            "Date:                Mon, 17 May 2021   Prob (F-statistic):               0.00\n",
            "Time:                        15:31:25   Log-Likelihood:                -13468.\n",
            "No. Observations:                1329   AIC:                         2.695e+04\n",
            "Df Residuals:                    1322   BIC:                         2.699e+04\n",
            "Df Model:                           6                                         \n",
            "Covariance Type:            nonrobust                                         \n",
            "====================================================================================\n",
            "                       coef    std err          t      P>|t|      [0.025      0.975]\n",
            "------------------------------------------------------------------------------------\n",
            "const             1074.9413    949.095      1.133      0.258    -786.955    2936.837\n",
            "bmi                344.0573     29.491     11.667      0.000     286.203     401.912\n",
            "children_0       -1688.7894    343.775     -4.912      0.000   -2363.193   -1014.386\n",
            "smoker_yes         2.35e+04    417.178     56.329      0.000    2.27e+04    2.43e+04\n",
            "region_southeast  -687.7479    392.275     -1.753      0.080   -1457.297      81.801\n",
            "age_group_old     4869.5583    596.084      8.169      0.000    3700.184    6038.933\n",
            "age_group_young  -5262.5530    362.344    -14.524      0.000   -5973.385   -4551.721\n",
            "==============================================================================\n",
            "Omnibus:                      267.829   Durbin-Watson:                   2.087\n",
            "Prob(Omnibus):                  0.000   Jarque-Bera (JB):              576.892\n",
            "Skew:                           1.136   Prob(JB):                    5.36e-126\n",
            "Kurtosis:                       5.293   Cond. No.                         179.\n",
            "==============================================================================\n",
            "\n",
            "Warnings:\n",
            "[1] Standard Errors assume that the covariance matrix of the errors is correctly specified.\n"
          ],
          "name": "stdout"
        }
      ]
    },
    {
      "cell_type": "code",
      "metadata": {
        "colab": {
          "base_uri": "https://localhost:8080/"
        },
        "id": "BXN7ysF_nVQA",
        "outputId": "56a73ad3-5803-466b-e4d8-c2cb11ed011e"
      },
      "source": [
        "# VIF - after dropping region_southwest\n",
        "health_ins_df_vif = health_ins_df_processed[['bmi', 'children_0',  \n",
        "                                              'smoker_yes', \n",
        "                                             'region_southeast', \n",
        "                                             'age_group_old', \n",
        "                                             'age_group_young']]\n",
        "vif_data = pd.DataFrame() \n",
        "vif_data[\"attribute\"] = health_ins_df_vif.columns \n",
        "vif_data[\"VIF\"] = [variance_inflation_factor(health_ins_df_vif.values, i) \n",
        "                          for i in range(len(health_ins_df_vif.columns))] \n",
        "  \n",
        "print(vif_data)"
      ],
      "execution_count": 60,
      "outputs": [
        {
          "output_type": "stream",
          "text": [
            "          attribute       VIF\n",
            "0               bmi  3.508416\n",
            "1        children_0  1.770489\n",
            "2        smoker_yes  1.252087\n",
            "3  region_southeast  1.440168\n",
            "4     age_group_old  1.316284\n",
            "5   age_group_young  2.249844\n"
          ],
          "name": "stdout"
        }
      ]
    },
    {
      "cell_type": "markdown",
      "metadata": {
        "id": "zvuudYouoD8w"
      },
      "source": [
        "#### Key points from Base Model:\n",
        "* Final attributes considered are - BMI , children_0,smoker_yes, region_southeast, age_group_old, age_group_young\n",
        "* The final accuracy obtained for base model - 74.1% Adjusted R-square"
      ]
    },
    {
      "cell_type": "markdown",
      "metadata": {
        "id": "Iyd7bRa4oaNF"
      },
      "source": [
        "### **Model:** Decision Tree Regressor"
      ]
    },
    {
      "cell_type": "code",
      "metadata": {
        "colab": {
          "base_uri": "https://localhost:8080/"
        },
        "id": "-b83BnTlnkPF",
        "outputId": "df5f6fb3-1b8f-459d-f106-fa3d2836f70b"
      },
      "source": [
        "# Dataset\n",
        "X = health_ins_df_processed.loc[:, health_ins_df_processed.columns != 'charges']\n",
        "y = health_ins_df_processed['charges']\n",
        "\n",
        "# Split the data into training and test sets - 70% train and 30% test splits\n",
        "X_train, X_test, y_train, y_test = train_test_split(X, y, test_size=0.30)\n",
        "\n",
        "# Note: randomly picked Hyperparameters for this model\n",
        "dtr = DecisionTreeRegressor(max_depth=4,\n",
        "                           min_samples_split=5,\n",
        "                           max_leaf_nodes=10)\n",
        "# Fit the Model\n",
        "dtr.fit(X_train,y_train)\n",
        "print(\"R-Squared on train dataset={}\".format(dtr.score(X_train,y_train)))\n",
        "\n",
        "# Check the predictions\n",
        "dtr.fit(X_test,y_test)   \n",
        "print(\"R-Squaredon test dataset={}\".format(dtr.score(X_test,y_test)))"
      ],
      "execution_count": 61,
      "outputs": [
        {
          "output_type": "stream",
          "text": [
            "R-Squared on train dataset=0.8751938085026844\n",
            "R-Squaredon test dataset=0.8214375839959536\n"
          ],
          "name": "stdout"
        }
      ]
    },
    {
      "cell_type": "markdown",
      "metadata": {
        "id": "33opduyPrRpQ"
      },
      "source": [
        "In the above model, we have randomly chosen the hyper-parameters. There is a method called **GridSearch** which allows to find the appropriate hyper-parameters for the model."
      ]
    },
    {
      "cell_type": "code",
      "metadata": {
        "colab": {
          "base_uri": "https://localhost:8080/"
        },
        "id": "xJ_2SLdlrMM5",
        "outputId": "7bb9a677-999f-4da4-c1d0-9916cb62a823"
      },
      "source": [
        "#Hyper-parameter tuning using Grid Search\n",
        "param_grid = {\"criterion\": [\"mse\", \"mae\"],\n",
        "              \"min_samples_split\": [2, 5, 10, 15,20, 40],\n",
        "              \"max_depth\": [2, 4, 6, 8],\n",
        "              \"max_leaf_nodes\": [2, 5, 10, 20, 100],\n",
        "              \"min_samples_leaf\": [2, 5, 10, 20, 100],\n",
        "              }\n",
        "\n",
        "# Have k-fold cross-validations = 5\n",
        "grid_cv_dtr = GridSearchCV(dtr, param_grid, cv=5)\n",
        "\n",
        "# Fit the Model\n",
        "grid_cv_dtr.fit(X,y)\n",
        "\n",
        "# Check Accuracy and Hyper-parameters for the model\n",
        "print(\"R-Squared::{}\".format(grid_cv_dtr.best_score_))\n",
        "print(\"Best Hyperparameters::\\n{}\".format(grid_cv_dtr.best_params_))"
      ],
      "execution_count": 62,
      "outputs": [
        {
          "output_type": "stream",
          "text": [
            "R-Squared::0.8464037958681339\n",
            "Best Hyperparameters::\n",
            "{'criterion': 'mse', 'max_depth': 4, 'max_leaf_nodes': 20, 'min_samples_leaf': 10, 'min_samples_split': 2}\n"
          ],
          "name": "stdout"
        }
      ]
    },
    {
      "cell_type": "markdown",
      "metadata": {
        "id": "hLJsR6i7r5YW"
      },
      "source": [
        "### **Model:** Gradient Boosting"
      ]
    },
    {
      "cell_type": "code",
      "metadata": {
        "colab": {
          "base_uri": "https://localhost:8080/"
        },
        "id": "dCe33-TdroKN",
        "outputId": "93118068-87ef-4bb7-99d5-807420d5396d"
      },
      "source": [
        "# Dataset\n",
        "X = health_ins_df_processed.loc[:, health_ins_df_processed.columns != 'charges']\n",
        "y = health_ins_df_processed['charges']\n",
        "\n",
        "# Split the data into training and test sets - 70% train and 30% test splits\n",
        "X_train, X_test, y_train, y_test = train_test_split(X, y, test_size=0.30)\n",
        "\n",
        "\n",
        "# Adding Hyper-parameter to Gradient Boosting\n",
        "p_tuning_1 = {'learning_rate':[0.020,0.015,0.01], 'n_estimators':[250,500,750]}\n",
        "\n",
        "tuning_1 = GridSearchCV(estimator =ensemble.GradientBoostingRegressor(max_depth=4, \n",
        "                                                                      min_samples_split=2, \n",
        "                                                                      min_samples_leaf=1, \n",
        "                                                                      subsample=1,\n",
        "                                                                      loss = 'ls',\n",
        "                                                                      criterion = 'mse'), \n",
        "                        param_grid = p_tuning_1, n_jobs=4,cv=5,verbose = True)\n",
        "\n",
        "# Fit the Model\n",
        "tuning_1.fit(X_train,y_train)\n",
        "tuning_1.cv_results_, tuning_1.best_score_, tuning_1.best_params_\n",
        "\n",
        "#Result:\n",
        "# 0.8406160794478224,\n",
        "# {'learning_rate': 0.015, 'n_estimators': 250})"
      ],
      "execution_count": 63,
      "outputs": [
        {
          "output_type": "stream",
          "text": [
            "Fitting 5 folds for each of 9 candidates, totalling 45 fits\n"
          ],
          "name": "stdout"
        },
        {
          "output_type": "stream",
          "text": [
            "[Parallel(n_jobs=4)]: Using backend LokyBackend with 4 concurrent workers.\n",
            "[Parallel(n_jobs=4)]: Done  45 out of  45 | elapsed:   16.6s finished\n"
          ],
          "name": "stderr"
        },
        {
          "output_type": "execute_result",
          "data": {
            "text/plain": [
              "({'mean_fit_time': array([0.65017185, 1.28062534, 1.92283287, 0.63848171, 1.25972323,\n",
              "         1.88959875, 0.63505182, 1.27270613, 1.59471993]),\n",
              "  'mean_score_time': array([0.00408058, 0.00878687, 0.01445856, 0.00775785, 0.01186523,\n",
              "         0.01014237, 0.00350227, 0.00913744, 0.01002226]),\n",
              "  'mean_test_score': array([0.84034961, 0.82834914, 0.81693155, 0.84061608, 0.83558079,\n",
              "         0.82730745, 0.8377419 , 0.8400504 , 0.83611877]),\n",
              "  'param_learning_rate': masked_array(data=[0.02, 0.02, 0.02, 0.015, 0.015, 0.015, 0.01, 0.01,\n",
              "                     0.01],\n",
              "               mask=[False, False, False, False, False, False, False, False,\n",
              "                     False],\n",
              "         fill_value='?',\n",
              "              dtype=object),\n",
              "  'param_n_estimators': masked_array(data=[250, 500, 750, 250, 500, 750, 250, 500, 750],\n",
              "               mask=[False, False, False, False, False, False, False, False,\n",
              "                     False],\n",
              "         fill_value='?',\n",
              "              dtype=object),\n",
              "  'params': [{'learning_rate': 0.02, 'n_estimators': 250},\n",
              "   {'learning_rate': 0.02, 'n_estimators': 500},\n",
              "   {'learning_rate': 0.02, 'n_estimators': 750},\n",
              "   {'learning_rate': 0.015, 'n_estimators': 250},\n",
              "   {'learning_rate': 0.015, 'n_estimators': 500},\n",
              "   {'learning_rate': 0.015, 'n_estimators': 750},\n",
              "   {'learning_rate': 0.01, 'n_estimators': 250},\n",
              "   {'learning_rate': 0.01, 'n_estimators': 500},\n",
              "   {'learning_rate': 0.01, 'n_estimators': 750}],\n",
              "  'rank_test_score': array([2, 7, 9, 1, 6, 8, 4, 3, 5], dtype=int32),\n",
              "  'split0_test_score': array([0.89189484, 0.88132251, 0.86910818, 0.89071983, 0.88826977,\n",
              "         0.87926217, 0.88452586, 0.89193802, 0.88784243]),\n",
              "  'split1_test_score': array([0.85641706, 0.84155785, 0.82731475, 0.85600902, 0.84797623,\n",
              "         0.83762627, 0.86215391, 0.85577416, 0.85082667]),\n",
              "  'split2_test_score': array([0.77192746, 0.7591722 , 0.74906377, 0.7739941 , 0.76705366,\n",
              "         0.76195193, 0.77812846, 0.77194372, 0.76597307]),\n",
              "  'split3_test_score': array([0.84964475, 0.83349331, 0.82373728, 0.85133445, 0.84267596,\n",
              "         0.83301122, 0.84029561, 0.84857741, 0.84417178]),\n",
              "  'split4_test_score': array([0.83186394, 0.82619982, 0.81543379, 0.83102299, 0.83192835,\n",
              "         0.82468567, 0.82360564, 0.83201869, 0.83177992]),\n",
              "  'std_fit_time': array([0.02154419, 0.00624388, 0.00868153, 0.01013901, 0.02709158,\n",
              "         0.01227279, 0.06689596, 0.00943299, 0.3603685 ]),\n",
              "  'std_score_time': array([1.25895022e-03, 3.38678690e-03, 3.22591076e-03, 3.56274206e-03,\n",
              "         1.41786123e-03, 3.54213522e-03, 8.92449628e-05, 3.55659609e-03,\n",
              "         3.87850742e-03]),\n",
              "  'std_test_score': array([0.03938292, 0.03948969, 0.03869059, 0.03845186, 0.03921588,\n",
              "         0.0377267 , 0.03617956, 0.0392818 , 0.03973853])},\n",
              " 0.8406160794478224,\n",
              " {'learning_rate': 0.015, 'n_estimators': 250})"
            ]
          },
          "metadata": {
            "tags": []
          },
          "execution_count": 63
        }
      ]
    },
    {
      "cell_type": "code",
      "metadata": {
        "colab": {
          "base_uri": "https://localhost:8080/"
        },
        "id": "psX3i7Rks5ON",
        "outputId": "f2a82866-02e0-4b3f-947a-5e5ea93fb849"
      },
      "source": [
        "p_tuning_2 = {'max_depth':[2,4,6,8], 'min_samples_split':[2,5,8,10],'min_samples_leaf':[1,2,5]}\n",
        "\n",
        "# Let's use the learning rate and estimators from the result above in this tuning\n",
        "tuning_2 = GridSearchCV(estimator =ensemble.GradientBoostingRegressor(learning_rate=0.015, \n",
        "                                                                      n_estimators=250, \n",
        "                                                                      subsample=1,\n",
        "                                                                      loss = 'ls',\n",
        "                                                                      criterion = 'mse'), \n",
        "                        param_grid = p_tuning_2, n_jobs=4,cv=5,verbose = True)\n",
        "\n",
        "#Fit the Model\n",
        "tuning_2.fit(X_train,y_train)\n",
        "\n",
        "# Output the results, model accuracy and best hyper-parameters\n",
        "tuning_2.cv_results_, tuning_2.best_score_, tuning_2.best_params_\n",
        "\n",
        "# Result:\n",
        "#0.8435892477957138,\n",
        "# {'max_depth': 4, 'min_samples_leaf': 5, 'min_samples_split': 10})"
      ],
      "execution_count": 64,
      "outputs": [
        {
          "output_type": "stream",
          "text": [
            "Fitting 5 folds for each of 48 candidates, totalling 240 fits\n"
          ],
          "name": "stdout"
        },
        {
          "output_type": "stream",
          "text": [
            "[Parallel(n_jobs=4)]: Using backend LokyBackend with 4 concurrent workers.\n",
            "[Parallel(n_jobs=4)]: Done  42 tasks      | elapsed:    4.8s\n",
            "[Parallel(n_jobs=4)]: Done 192 tasks      | elapsed:   33.1s\n",
            "[Parallel(n_jobs=4)]: Done 240 out of 240 | elapsed:   45.3s finished\n"
          ],
          "name": "stderr"
        },
        {
          "output_type": "execute_result",
          "data": {
            "text/plain": [
              "({'mean_fit_time': array([0.41866207, 0.47733951, 0.41910801, 0.42177787, 0.42734523,\n",
              "         0.42211595, 0.41690159, 0.41022716, 0.4230926 , 0.43645968,\n",
              "         0.42942266, 0.40842862, 0.65958371, 0.62924461, 0.64677305,\n",
              "         0.65801167, 0.64846191, 0.67006536, 0.63768106, 0.65482664,\n",
              "         0.62737269, 0.62947025, 0.64072347, 0.65635071, 0.87514896,\n",
              "         0.86373458, 0.85286961, 0.85228043, 0.86785078, 0.85410967,\n",
              "         0.83700676, 0.83538046, 0.84640598, 0.84449458, 0.83837767,\n",
              "         0.82617297, 1.11902599, 1.07370486, 1.03239479, 1.01380806,\n",
              "         1.05934305, 1.0293355 , 1.00336666, 1.01400261, 0.97284446,\n",
              "         0.98641305, 0.99445252, 0.95254102]),\n",
              "  'mean_score_time': array([0.00564785, 0.00731168, 0.00710921, 0.00727882, 0.0053144 ,\n",
              "         0.00794406, 0.00388584, 0.01014214, 0.00496259, 0.00538473,\n",
              "         0.003971  , 0.01046271, 0.00788612, 0.00871563, 0.00785799,\n",
              "         0.00730748, 0.00644774, 0.00707178, 0.00856023, 0.00867834,\n",
              "         0.00807881, 0.0085721 , 0.01077633, 0.00585279, 0.01025486,\n",
              "         0.00827203, 0.0074667 , 0.01289773, 0.01244431, 0.0087594 ,\n",
              "         0.01067872, 0.01163902, 0.00882001, 0.0125061 , 0.01217856,\n",
              "         0.00882859, 0.01332321, 0.01364636, 0.01190586, 0.01102076,\n",
              "         0.0126564 , 0.01393051, 0.01356359, 0.01439543, 0.01386681,\n",
              "         0.01025114, 0.01088123, 0.00924935]),\n",
              "  'mean_test_score': array([0.84112649, 0.84112649, 0.84112649, 0.84112649, 0.84112649,\n",
              "         0.84112649, 0.84112649, 0.84112649, 0.84112649, 0.84112649,\n",
              "         0.84112649, 0.84112649, 0.8405625 , 0.84092581, 0.84091104,\n",
              "         0.84116225, 0.84077577, 0.84085638, 0.84134333, 0.84132676,\n",
              "         0.84358917, 0.84358908, 0.84358891, 0.84358925, 0.82328752,\n",
              "         0.82572463, 0.8269204 , 0.82789062, 0.82720651, 0.82673508,\n",
              "         0.8297747 , 0.82884134, 0.83580016, 0.83580734, 0.83581646,\n",
              "         0.83580351, 0.79929467, 0.80896905, 0.81715632, 0.81517992,\n",
              "         0.8176953 , 0.8182653 , 0.8226337 , 0.81987377, 0.82962567,\n",
              "         0.82964074, 0.82963191, 0.82965128]),\n",
              "  'param_max_depth': masked_array(data=[2, 2, 2, 2, 2, 2, 2, 2, 2, 2, 2, 2, 4, 4, 4, 4, 4, 4,\n",
              "                     4, 4, 4, 4, 4, 4, 6, 6, 6, 6, 6, 6, 6, 6, 6, 6, 6, 6,\n",
              "                     8, 8, 8, 8, 8, 8, 8, 8, 8, 8, 8, 8],\n",
              "               mask=[False, False, False, False, False, False, False, False,\n",
              "                     False, False, False, False, False, False, False, False,\n",
              "                     False, False, False, False, False, False, False, False,\n",
              "                     False, False, False, False, False, False, False, False,\n",
              "                     False, False, False, False, False, False, False, False,\n",
              "                     False, False, False, False, False, False, False, False],\n",
              "         fill_value='?',\n",
              "              dtype=object),\n",
              "  'param_min_samples_leaf': masked_array(data=[1, 1, 1, 1, 2, 2, 2, 2, 5, 5, 5, 5, 1, 1, 1, 1, 2, 2,\n",
              "                     2, 2, 5, 5, 5, 5, 1, 1, 1, 1, 2, 2, 2, 2, 5, 5, 5, 5,\n",
              "                     1, 1, 1, 1, 2, 2, 2, 2, 5, 5, 5, 5],\n",
              "               mask=[False, False, False, False, False, False, False, False,\n",
              "                     False, False, False, False, False, False, False, False,\n",
              "                     False, False, False, False, False, False, False, False,\n",
              "                     False, False, False, False, False, False, False, False,\n",
              "                     False, False, False, False, False, False, False, False,\n",
              "                     False, False, False, False, False, False, False, False],\n",
              "         fill_value='?',\n",
              "              dtype=object),\n",
              "  'param_min_samples_split': masked_array(data=[2, 5, 8, 10, 2, 5, 8, 10, 2, 5, 8, 10, 2, 5, 8, 10, 2,\n",
              "                     5, 8, 10, 2, 5, 8, 10, 2, 5, 8, 10, 2, 5, 8, 10, 2, 5,\n",
              "                     8, 10, 2, 5, 8, 10, 2, 5, 8, 10, 2, 5, 8, 10],\n",
              "               mask=[False, False, False, False, False, False, False, False,\n",
              "                     False, False, False, False, False, False, False, False,\n",
              "                     False, False, False, False, False, False, False, False,\n",
              "                     False, False, False, False, False, False, False, False,\n",
              "                     False, False, False, False, False, False, False, False,\n",
              "                     False, False, False, False, False, False, False, False],\n",
              "         fill_value='?',\n",
              "              dtype=object),\n",
              "  'params': [{'max_depth': 2, 'min_samples_leaf': 1, 'min_samples_split': 2},\n",
              "   {'max_depth': 2, 'min_samples_leaf': 1, 'min_samples_split': 5},\n",
              "   {'max_depth': 2, 'min_samples_leaf': 1, 'min_samples_split': 8},\n",
              "   {'max_depth': 2, 'min_samples_leaf': 1, 'min_samples_split': 10},\n",
              "   {'max_depth': 2, 'min_samples_leaf': 2, 'min_samples_split': 2},\n",
              "   {'max_depth': 2, 'min_samples_leaf': 2, 'min_samples_split': 5},\n",
              "   {'max_depth': 2, 'min_samples_leaf': 2, 'min_samples_split': 8},\n",
              "   {'max_depth': 2, 'min_samples_leaf': 2, 'min_samples_split': 10},\n",
              "   {'max_depth': 2, 'min_samples_leaf': 5, 'min_samples_split': 2},\n",
              "   {'max_depth': 2, 'min_samples_leaf': 5, 'min_samples_split': 5},\n",
              "   {'max_depth': 2, 'min_samples_leaf': 5, 'min_samples_split': 8},\n",
              "   {'max_depth': 2, 'min_samples_leaf': 5, 'min_samples_split': 10},\n",
              "   {'max_depth': 4, 'min_samples_leaf': 1, 'min_samples_split': 2},\n",
              "   {'max_depth': 4, 'min_samples_leaf': 1, 'min_samples_split': 5},\n",
              "   {'max_depth': 4, 'min_samples_leaf': 1, 'min_samples_split': 8},\n",
              "   {'max_depth': 4, 'min_samples_leaf': 1, 'min_samples_split': 10},\n",
              "   {'max_depth': 4, 'min_samples_leaf': 2, 'min_samples_split': 2},\n",
              "   {'max_depth': 4, 'min_samples_leaf': 2, 'min_samples_split': 5},\n",
              "   {'max_depth': 4, 'min_samples_leaf': 2, 'min_samples_split': 8},\n",
              "   {'max_depth': 4, 'min_samples_leaf': 2, 'min_samples_split': 10},\n",
              "   {'max_depth': 4, 'min_samples_leaf': 5, 'min_samples_split': 2},\n",
              "   {'max_depth': 4, 'min_samples_leaf': 5, 'min_samples_split': 5},\n",
              "   {'max_depth': 4, 'min_samples_leaf': 5, 'min_samples_split': 8},\n",
              "   {'max_depth': 4, 'min_samples_leaf': 5, 'min_samples_split': 10},\n",
              "   {'max_depth': 6, 'min_samples_leaf': 1, 'min_samples_split': 2},\n",
              "   {'max_depth': 6, 'min_samples_leaf': 1, 'min_samples_split': 5},\n",
              "   {'max_depth': 6, 'min_samples_leaf': 1, 'min_samples_split': 8},\n",
              "   {'max_depth': 6, 'min_samples_leaf': 1, 'min_samples_split': 10},\n",
              "   {'max_depth': 6, 'min_samples_leaf': 2, 'min_samples_split': 2},\n",
              "   {'max_depth': 6, 'min_samples_leaf': 2, 'min_samples_split': 5},\n",
              "   {'max_depth': 6, 'min_samples_leaf': 2, 'min_samples_split': 8},\n",
              "   {'max_depth': 6, 'min_samples_leaf': 2, 'min_samples_split': 10},\n",
              "   {'max_depth': 6, 'min_samples_leaf': 5, 'min_samples_split': 2},\n",
              "   {'max_depth': 6, 'min_samples_leaf': 5, 'min_samples_split': 5},\n",
              "   {'max_depth': 6, 'min_samples_leaf': 5, 'min_samples_split': 8},\n",
              "   {'max_depth': 6, 'min_samples_leaf': 5, 'min_samples_split': 10},\n",
              "   {'max_depth': 8, 'min_samples_leaf': 1, 'min_samples_split': 2},\n",
              "   {'max_depth': 8, 'min_samples_leaf': 1, 'min_samples_split': 5},\n",
              "   {'max_depth': 8, 'min_samples_leaf': 1, 'min_samples_split': 8},\n",
              "   {'max_depth': 8, 'min_samples_leaf': 1, 'min_samples_split': 10},\n",
              "   {'max_depth': 8, 'min_samples_leaf': 2, 'min_samples_split': 2},\n",
              "   {'max_depth': 8, 'min_samples_leaf': 2, 'min_samples_split': 5},\n",
              "   {'max_depth': 8, 'min_samples_leaf': 2, 'min_samples_split': 8},\n",
              "   {'max_depth': 8, 'min_samples_leaf': 2, 'min_samples_split': 10},\n",
              "   {'max_depth': 8, 'min_samples_leaf': 5, 'min_samples_split': 2},\n",
              "   {'max_depth': 8, 'min_samples_leaf': 5, 'min_samples_split': 5},\n",
              "   {'max_depth': 8, 'min_samples_leaf': 5, 'min_samples_split': 8},\n",
              "   {'max_depth': 8, 'min_samples_leaf': 5, 'min_samples_split': 10}],\n",
              "  'rank_test_score': array([ 8,  8,  8,  8,  8,  8,  8,  8,  8,  8,  8,  8, 24, 20, 21,  7, 23,\n",
              "         22,  5,  6,  2,  3,  4,  1, 40, 39, 37, 35, 36, 38, 29, 34, 28, 26,\n",
              "         25, 27, 48, 47, 45, 46, 44, 43, 41, 42, 33, 31, 32, 30],\n",
              "        dtype=int32),\n",
              "  'split0_test_score': array([0.88938457, 0.88938457, 0.88938457, 0.88938457, 0.88938457,\n",
              "         0.88938457, 0.88938457, 0.88938457, 0.88938457, 0.88938457,\n",
              "         0.88938457, 0.88938457, 0.89077324, 0.89111019, 0.89108302,\n",
              "         0.89136087, 0.89050151, 0.8904984 , 0.89021867, 0.89003019,\n",
              "         0.88990218, 0.88990174, 0.88990089, 0.88990257, 0.8819107 ,\n",
              "         0.88318535, 0.88507126, 0.88517482, 0.88816361, 0.88722318,\n",
              "         0.88750925, 0.8881911 , 0.88548442, 0.88551858, 0.88556255,\n",
              "         0.88549951, 0.86558829, 0.86739058, 0.87263762, 0.87194651,\n",
              "         0.87440253, 0.87933651, 0.88135509, 0.88060228, 0.88330432,\n",
              "         0.88337042, 0.88338287, 0.88333407]),\n",
              "  'split1_test_score': array([0.86705884, 0.86705884, 0.86705884, 0.86705884, 0.86705884,\n",
              "         0.86705884, 0.86705884, 0.86705884, 0.86705884, 0.86705884,\n",
              "         0.86705884, 0.86705884, 0.85560326, 0.85699511, 0.85679588,\n",
              "         0.85731775, 0.86224551, 0.86260123, 0.86393582, 0.86417419,\n",
              "         0.86783431, 0.86783431, 0.86783431, 0.86783431, 0.83834575,\n",
              "         0.84272174, 0.84504693, 0.84842731, 0.84741609, 0.84664134,\n",
              "         0.85046556, 0.84742685, 0.85972029, 0.85972029, 0.85972029,\n",
              "         0.85972029, 0.82289127, 0.83805403, 0.84350505, 0.84711269,\n",
              "         0.83265853, 0.83447734, 0.84789218, 0.84647592, 0.85826697,\n",
              "         0.85826697, 0.85826697, 0.85826697]),\n",
              "  'split2_test_score': array([0.78235705, 0.78235705, 0.78235705, 0.78235705, 0.78235705,\n",
              "         0.78235705, 0.78235705, 0.78235705, 0.78235705, 0.78235705,\n",
              "         0.78235705, 0.78235705, 0.77399309, 0.77383936, 0.7742651 ,\n",
              "         0.77437248, 0.7730346 , 0.77302854, 0.77320795, 0.77351667,\n",
              "         0.77584528, 0.77584528, 0.77584528, 0.77584528, 0.7532767 ,\n",
              "         0.7563928 , 0.75280905, 0.7535078 , 0.75108852, 0.75208408,\n",
              "         0.75631179, 0.75473667, 0.76571805, 0.76571805, 0.76571805,\n",
              "         0.76571805, 0.70410609, 0.71483296, 0.73313217, 0.73018685,\n",
              "         0.74177725, 0.73651216, 0.74575772, 0.73886793, 0.7535463 ,\n",
              "         0.75355527, 0.75349926, 0.75364462]),\n",
              "  'split3_test_score': array([0.84032801, 0.84032801, 0.84032801, 0.84032801, 0.84032801,\n",
              "         0.84032801, 0.84032801, 0.84032801, 0.84032801, 0.84032801,\n",
              "         0.84032801, 0.84032801, 0.8514357 , 0.85158314, 0.85071722,\n",
              "         0.8512741 , 0.84748915, 0.84743121, 0.84836301, 0.84804131,\n",
              "         0.85376819, 0.85376819, 0.85376819, 0.85376819, 0.82949227,\n",
              "         0.82916319, 0.82804049, 0.82833983, 0.83088322, 0.82687419,\n",
              "         0.8326438 , 0.83007243, 0.84366946, 0.84366946, 0.84366946,\n",
              "         0.84366946, 0.80481072, 0.82185087, 0.82235719, 0.81886456,\n",
              "         0.82848826, 0.827766  , 0.82054219, 0.81787419, 0.83543632,\n",
              "         0.83543632, 0.83543632, 0.83543632]),\n",
              "  'split4_test_score': array([0.82650398, 0.82650398, 0.82650398, 0.82650398, 0.82650398,\n",
              "         0.82650398, 0.82650398, 0.82650398, 0.82650398, 0.82650398,\n",
              "         0.82650398, 0.82650398, 0.83100719, 0.83110125, 0.83169395,\n",
              "         0.83148604, 0.83060809, 0.83072252, 0.83099119, 0.83087145,\n",
              "         0.83059589, 0.83059589, 0.83059589, 0.83059589, 0.81341219,\n",
              "         0.81716006, 0.82363428, 0.82400333, 0.8184811 , 0.82085262,\n",
              "         0.8219431 , 0.82377967, 0.82440859, 0.8244103 , 0.82441196,\n",
              "         0.82441026, 0.79907697, 0.8027168 , 0.81414957, 0.80778896,\n",
              "         0.81114991, 0.81323449, 0.8176213 , 0.81554851, 0.81757444,\n",
              "         0.81757473, 0.81757413, 0.81757444]),\n",
              "  'std_fit_time': array([0.06068934, 0.04167564, 0.00803964, 0.00364397, 0.00322067,\n",
              "         0.00713434, 0.00818343, 0.00461039, 0.01587958, 0.00650497,\n",
              "         0.00919413, 0.03442853, 0.02864335, 0.04848333, 0.00859769,\n",
              "         0.01266323, 0.00527813, 0.01061639, 0.01026001, 0.00878329,\n",
              "         0.00450475, 0.0063122 , 0.01171302, 0.00460195, 0.00282606,\n",
              "         0.00627542, 0.01412041, 0.00632946, 0.03159481, 0.01169757,\n",
              "         0.00973668, 0.00884839, 0.0100623 , 0.00715972, 0.01367013,\n",
              "         0.00587838, 0.01860604, 0.03060242, 0.02803972, 0.01200959,\n",
              "         0.01909078, 0.00667433, 0.03762421, 0.00955666, 0.00892407,\n",
              "         0.02363131, 0.02177993, 0.03226692]),\n",
              "  'std_score_time': array([0.00395964, 0.004277  , 0.0041299 , 0.00392973, 0.00355963,\n",
              "         0.0031052 , 0.00284992, 0.00082905, 0.00316917, 0.00355049,\n",
              "         0.00284327, 0.00155688, 0.00358994, 0.00456821, 0.00367056,\n",
              "         0.00455028, 0.00366524, 0.00333559, 0.00445733, 0.00287253,\n",
              "         0.00390593, 0.00396961, 0.00399265, 0.00460819, 0.00228211,\n",
              "         0.00327075, 0.00342975, 0.00224475, 0.00478802, 0.00345367,\n",
              "         0.00426199, 0.00228782, 0.00564969, 0.00596534, 0.0042131 ,\n",
              "         0.00361925, 0.00462103, 0.00471181, 0.00191327, 0.00435632,\n",
              "         0.00078753, 0.00141179, 0.0010862 , 0.00662236, 0.00260521,\n",
              "         0.00415351, 0.0027625 , 0.00365272]),\n",
              "  'std_test_score': array([0.03652296, 0.03652296, 0.03652296, 0.03652296, 0.03652296,\n",
              "         0.03652296, 0.03652296, 0.03652296, 0.03652296, 0.03652296,\n",
              "         0.03652296, 0.03652296, 0.0384405 , 0.03869725, 0.03845089,\n",
              "         0.03856852, 0.03916865, 0.0392013 , 0.03923797, 0.03910662,\n",
              "         0.03897279, 0.03897269, 0.03897249, 0.03897289, 0.04171562,\n",
              "         0.04118911, 0.04292934, 0.04301477, 0.04473879, 0.04396013,\n",
              "         0.04295988, 0.04332771, 0.04035813, 0.04036645, 0.04037719,\n",
              "         0.04036175, 0.05299619, 0.05162489, 0.04662312, 0.04802952,\n",
              "         0.04327237, 0.04645788, 0.04477859, 0.04686209, 0.04397451,\n",
              "         0.04398753, 0.04400999, 0.04394776])},\n",
              " 0.8435892477957138,\n",
              " {'max_depth': 4, 'min_samples_leaf': 5, 'min_samples_split': 10})"
            ]
          },
          "metadata": {
            "tags": []
          },
          "execution_count": 64
        }
      ]
    },
    {
      "cell_type": "markdown",
      "metadata": {
        "id": "spU5PW3_u01M"
      },
      "source": [
        "#### Final Model with Hyper-parameters"
      ]
    },
    {
      "cell_type": "code",
      "metadata": {
        "colab": {
          "base_uri": "https://localhost:8080/"
        },
        "id": "NoIEFYCHtUfr",
        "outputId": "5bbd58ac-04f3-4c46-b510-dbc323ee32e0"
      },
      "source": [
        "#Final Model\n",
        "f_model = ensemble.GradientBoostingRegressor(learning_rate=0.015, \n",
        "                                             n_estimators=250, \n",
        "                                             max_depth=4,\n",
        "                                             min_samples_leaf=2,\n",
        "                                             min_samples_split=5,\n",
        "                                             subsample=1,\n",
        "                                             loss = 'ls',\n",
        "                                             criterion = 'mse')\n",
        "\n",
        "# Fit the model\n",
        "f_model.fit(X_train, y_train)\n",
        "print(\"Accuracy score (training): {0:.3f}\".format(f_model.score(X_train, y_train)))\n",
        "\n",
        "# Test the accuracy of Test set\n",
        "f_model.fit(X_test, y_test)\n",
        "print(\"Accuracy score (test): {0:.3f}\".format(f_model.score(X_test, y_test)))"
      ],
      "execution_count": 65,
      "outputs": [
        {
          "output_type": "stream",
          "text": [
            "Accuracy score (training): 0.880\n",
            "Accuracy score (test): 0.902\n"
          ],
          "name": "stdout"
        }
      ]
    },
    {
      "cell_type": "markdown",
      "metadata": {
        "id": "WE5Md4afvDVp"
      },
      "source": [
        "#### Feature Importance"
      ]
    },
    {
      "cell_type": "code",
      "metadata": {
        "colab": {
          "base_uri": "https://localhost:8080/",
          "height": 374
        },
        "id": "Hyu99mCyu-Au",
        "outputId": "2497650a-49b6-4b98-c6e7-8f38ee099d56"
      },
      "source": [
        "feature_importance = f_model.feature_importances_\n",
        "sorted_idx = np.argsort(feature_importance)\n",
        "fig = plt.figure(figsize=(12, 6))\n",
        "pos = np.arange(sorted_idx.shape[0]) + .5\n",
        "plt.barh(pos, feature_importance[sorted_idx], align='center')\n",
        "plt.yticks(pos, np.array(health_ins_df_processed.columns)[sorted_idx])\n",
        "plt.show()"
      ],
      "execution_count": 66,
      "outputs": [
        {
          "output_type": "display_data",
          "data": {
            "image/png": "[encoded data removed]",
            "text/plain": [
              "<Figure size 864x432 with 1 Axes>"
            ]
          },
          "metadata": {
            "tags": [],
            "needs_background": "light"
          }
        }
      ]
    },
    {
      "cell_type": "markdown",
      "metadata": {
        "id": "CkflexNovK-z"
      },
      "source": [
        "The model built using the sample dataset shows that the most important variables that predict the health insurance cost of a customer are:\n",
        "* If the customer is not a smoker\n",
        "* If the customer has children\n",
        "* If the customer has a BMI\n",
        "* If the customer is very old"
      ]
    },
    {
      "cell_type": "markdown",
      "metadata": {
        "id": "eSarzXWjv5zP"
      },
      "source": [
        "## Save the model"
      ]
    },
    {
      "cell_type": "code",
      "metadata": {
        "colab": {
          "base_uri": "https://localhost:8080/"
        },
        "id": "vL0VN8APwEGX",
        "outputId": "451f3310-b4e4-47d9-8a02-d4d48fdc5e84"
      },
      "source": [
        "f_model\n"
      ],
      "execution_count": 67,
      "outputs": [
        {
          "output_type": "execute_result",
          "data": {
            "text/plain": [
              "GradientBoostingRegressor(alpha=0.9, ccp_alpha=0.0, criterion='mse', init=None,\n",
              "                          learning_rate=0.015, loss='ls', max_depth=4,\n",
              "                          max_features=None, max_leaf_nodes=None,\n",
              "                          min_impurity_decrease=0.0, min_impurity_split=None,\n",
              "                          min_samples_leaf=2, min_samples_split=5,\n",
              "                          min_weight_fraction_leaf=0.0, n_estimators=250,\n",
              "                          n_iter_no_change=None, presort='deprecated',\n",
              "                          random_state=None, subsample=1, tol=0.0001,\n",
              "                          validation_fraction=0.1, verbose=0, warm_start=False)"
            ]
          },
          "metadata": {
            "tags": []
          },
          "execution_count": 67
        }
      ]
    },
    {
      "cell_type": "code",
      "metadata": {
        "id": "uJWjOv_ovHkM"
      },
      "source": [
        "# save the model to disk\n",
        "filename = 'health_insurance_data_model.sav'\n",
        "pickle.dump(f_model, open(filename, 'wb'))"
      ],
      "execution_count": 68,
      "outputs": []
    },
    {
      "cell_type": "markdown",
      "metadata": {
        "id": "km6IOu74DtIK"
      },
      "source": [
        "## Predict on Test Dataset"
      ]
    },
    {
      "cell_type": "code",
      "metadata": {
        "id": "XPhfo6-vv_K0",
        "colab": {
          "base_uri": "https://localhost:8080/"
        },
        "outputId": "b7c9acde-3cf2-4f80-bdbc-cd6ed268b903"
      },
      "source": [
        "# load the model from disk\n",
        "filename = 'health_insurance_data_model.sav'\n",
        "loaded_model = pickle.load(open(filename, 'rb'))\n",
        "result = loaded_model.score(X_test, y_test)\n",
        "print(result) #This is the estimated accuracy on the unseen dataset"
      ],
      "execution_count": 69,
      "outputs": [
        {
          "output_type": "stream",
          "text": [
            "0.9015343118101079\n"
          ],
          "name": "stdout"
        }
      ]
    }
  ]
}